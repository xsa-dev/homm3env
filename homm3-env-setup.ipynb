{
 "cells": [
  {
   "cell_type": "markdown",
   "metadata": {},
   "source": [
    "# Heroes of Might and Magic III Open AI Gym Enviroment\n",
    "![img](https://leonardo.osnova.io/61440031-6b0f-d7ab-e62e-ba6eee3720a0/-/preview/1100/-/format/webp/)"
   ]
  },
  {
   "cell_type": "markdown",
   "metadata": {},
   "source": [
    "## Environment Setup\n",
    "\n",
    "The environment is installed via pip, etc.\n",
    "Build environment from source including grpc service is not yet implemented.\n",
    "Среда устанавливается через pip. Билд vcmi, grpc, state, actions и всё остальное пока не реализовано."
   ]
  },
  {
   "cell_type": "code",
   "execution_count": 3,
   "metadata": {},
   "outputs": [
    {
     "name": "stdout",
     "output_type": "stream",
     "text": [
      "Obtaining file:///home/xsa/DEV/xsa-dev/homm3env\n",
      "Requirement already satisfied: gym in /home/xsa/anaconda3/lib/python3.8/site-packages (from homm3==0.0.1) (0.21.0)\n",
      "Requirement already satisfied: numpy>=1.18.0 in /home/xsa/anaconda3/lib/python3.8/site-packages (from gym->homm3==0.0.1) (1.20.1)\n",
      "Requirement already satisfied: cloudpickle>=1.2.0 in /home/xsa/anaconda3/lib/python3.8/site-packages (from gym->homm3==0.0.1) (1.6.0)\n",
      "Installing collected packages: homm3\n",
      "  Running setup.py develop for homm3\n",
      "Successfully installed homm3\n"
     ]
    }
   ],
   "source": [
    "# in this folder\n",
    "!pip install -e ."
   ]
  },
  {
   "cell_type": "markdown",
   "metadata": {},
   "source": [
    "# Make environment"
   ]
  },
  {
   "cell_type": "code",
   "execution_count": 4,
   "metadata": {},
   "outputs": [],
   "source": [
    "# import gym\n",
    "import gym"
   ]
  },
  {
   "cell_type": "code",
   "execution_count": 5,
   "metadata": {},
   "outputs": [],
   "source": [
    "# make env\n",
    "env = gym.make(\"homm3:homm3-v0\")"
   ]
  },
  {
   "cell_type": "code",
   "execution_count": 7,
   "metadata": {},
   "outputs": [
    {
     "data": {
      "text/plain": [
       "4"
      ]
     },
     "execution_count": 7,
     "metadata": {},
     "output_type": "execute_result"
    }
   ],
   "source": [
    "# builded test\n",
    "nb_actions = env.action_space.n\n",
    "nb_actions"
   ]
  }
 ],
 "metadata": {
  "interpreter": {
   "hash": "e4d0776e5f0095e5263d8593e2fd720cdc769caff50812a8a080fce4f614aab9"
  },
  "kernelspec": {
   "display_name": "Python 3.8.8 64-bit ('base': conda)",
   "language": "python",
   "name": "python3"
  },
  "language_info": {
   "codemirror_mode": {
    "name": "ipython",
    "version": 3
   },
   "file_extension": ".py",
   "mimetype": "text/x-python",
   "name": "python",
   "nbconvert_exporter": "python",
   "pygments_lexer": "ipython3",
   "version": "3.8.8"
  },
  "orig_nbformat": 4
 },
 "nbformat": 4,
 "nbformat_minor": 2
}
