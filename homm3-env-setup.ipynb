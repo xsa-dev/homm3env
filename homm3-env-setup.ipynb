{
 "cells": [
  {
   "cell_type": "markdown",
   "metadata": {},
   "source": [
    "# Heroes of Might and Magic III Open AI Gym Enviroment\n",
    "![img](https://leonardo.osnova.io/61440031-6b0f-d7ab-e62e-ba6eee3720a0/-/preview/1100/-/format/webp/)"
   ]
  },
  {
   "cell_type": "markdown",
   "metadata": {},
   "source": [
    "## Environment Setup\n",
    "\n",
    "The environment is installed via pip, etc.\n",
    "Build environment from source including grpc service is not yet implemented.\n",
    "Среда устанавливается через pip. Билд vcmi, grpc, state, actions и всё остальное пока не реализовано."
   ]
  },
  {
   "cell_type": "code",
   "execution_count": null,
   "metadata": {},
   "outputs": [],
   "source": [
    "# in this folder\n",
    "!pip install -e ."
   ]
  },
  {
   "cell_type": "markdown",
   "metadata": {},
   "source": [
    "# Make environment"
   ]
  },
  {
   "cell_type": "code",
   "execution_count": null,
   "metadata": {},
   "outputs": [],
   "source": [
    "# import gym\n",
    "import gym"
   ]
  },
  {
   "cell_type": "code",
   "execution_count": null,
   "metadata": {},
   "outputs": [],
   "source": [
    "# make env\n",
    "env = gym.make(\"homm3:homm3-v0\")"
   ]
  },
  {
   "cell_type": "code",
   "execution_count": null,
   "metadata": {},
   "outputs": [],
   "source": [
    "# builded test\n",
    "nb_actions = env.action_space.n\n",
    "nb_actions"
   ]
  }
 ],
 "metadata": {
  "interpreter": {
   "hash": "e4d0776e5f0095e5263d8593e2fd720cdc769caff50812a8a080fce4f614aab9"
  },
  "kernelspec": {
   "display_name": "Python 3.8.8 64-bit ('base': conda)",
   "language": "python",
   "name": "python3"
  },
  "language_info": {
   "codemirror_mode": {
    "name": "ipython",
    "version": 3
   },
   "file_extension": ".py",
   "mimetype": "text/x-python",
   "name": "python",
   "nbconvert_exporter": "python",
   "pygments_lexer": "ipython3",
   "version": "3.8.8"
  },
  "orig_nbformat": 4
 },
 "nbformat": 4,
 "nbformat_minor": 2
}
