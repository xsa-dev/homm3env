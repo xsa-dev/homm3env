{
 "cells": [
  {
   "cell_type": "markdown",
   "metadata": {},
   "source": [
    "# Heroes of Might and Magic III Open AI Gym Enviroment\n",
    "<img src='https://leonardo.osnova.io/61440031-6b0f-d7ab-e62e-ba6eee3720a0/-/preview/1100/-/format/webp/' style='height: 300px'>\n"
   ]
  },
  {
   "cell_type": "markdown",
   "metadata": {},
   "source": [
    "## Environment Setup\n",
    "\n",
    "The environment is installed via pip, etc.\n",
    "Build environment from source including grpc service is not yet implemented.\n",
    "Среда устанавливается через pip. Билд vcmi, grpc, state, actions и всё остальное пока не реализовано."
   ]
  },
  {
   "cell_type": "code",
   "execution_count": null,
   "metadata": {},
   "outputs": [],
   "source": [
    "# in this folder\n",
    "!pip install - e ."
   ]
  },
  {
   "cell_type": "markdown",
   "metadata": {},
   "source": [
    "# Make environment"
   ]
  },
  {
   "cell_type": "code",
   "execution_count": null,
   "metadata": {},
   "outputs": [],
   "source": [
    "# import gym\n",
    "import gym"
   ]
  },
  {
   "cell_type": "markdown",
   "metadata": {},
   "source": [
    "## Virtual Display (for in notebook video) (nwy)"
   ]
  },
  {
   "cell_type": "code",
   "execution_count": null,
   "metadata": {},
   "outputs": [],
   "source": [
    "!pip install pyvirtualdisplay"
   ]
  },
  {
   "cell_type": "code",
   "execution_count": null,
   "metadata": {},
   "outputs": [],
   "source": [
    "from pyvirtualdisplay import Display\n",
    "display = Display(visible=0, size=(1400, 900))\n",
    "display.start()"
   ]
  },
  {
   "cell_type": "markdown",
   "metadata": {},
   "source": [
    "# Try to run vcmi server"
   ]
  },
  {
   "cell_type": "code",
   "execution_count": null,
   "metadata": {},
   "outputs": [],
   "source": [
    "builded_server=r'/home/xsa/DEV/xsa-dev/grpc/examples/cpp/vcmi/bin/vcmiserver'\n",
    "\n",
    "import subprocess\n",
    "subprocess.run(builded_server)"
   ]
  },
  {
   "cell_type": "code",
   "execution_count": null,
   "metadata": {},
   "outputs": [],
   "source": [
    "# make env\n",
    "env = gym.make(\"homm3:homm3-v0\")\n",
    "env.render(mode='rgb_array', close=True)\n"
   ]
  },
  {
   "cell_type": "code",
   "execution_count": null,
   "metadata": {},
   "outputs": [],
   "source": [
    "# builded test\n",
    "nb_actions = env.action_space.n\n",
    "nb_actions\n"
   ]
  },
  {
   "cell_type": "markdown",
   "metadata": {},
   "source": [
    "# Running with params"
   ]
  },
  {
   "cell_type": "markdown",
   "metadata": {},
   "source": [
    "## research"
   ]
  },
  {
   "cell_type": "code",
   "execution_count": null,
   "metadata": {},
   "outputs": [],
   "source": [
    "import subprocess\n",
    "\n",
    "headless_command = \"~/DEV/xsa-dev/grpc/examples/cpp/vcmi/bin/vcmiclient\"\n",
    "subprocess.run(headless_command, shell=True, check=True)\n"
   ]
  },
  {
   "cell_type": "code",
   "execution_count": null,
   "metadata": {},
   "outputs": [],
   "source": [
    "import subprocess\n",
    "\n",
    "headless_command = \"~/DEV/xsa-dev/grpc/examples/cpp/vcmi/bin/vcmiserver\"\n",
    "subprocess.run(headless_command, shell=True, check=True)\n"
   ]
  },
  {
   "cell_type": "code",
   "execution_count": null,
   "metadata": {},
   "outputs": [],
   "source": [
    "#!/usr/bin/env python\n",
    "# -*- coding: utf-8 -*-\n",
    "\n",
    "import socket\n",
    "\n",
    "sock = socket.socket()\n",
    "sock.connect(('localhost', 3030))\n",
    "sock.send()\n",
    "\n",
    "data = sock.recv(4194304)\n",
    "sock.close()\n",
    "\n",
    "print(data)\n"
   ]
  },
  {
   "cell_type": "code",
   "execution_count": null,
   "metadata": {},
   "outputs": [],
   "source": [
    "import pickle\n",
    "bytes = pickle.dumps(someobject)\n",
    "bytes\n"
   ]
  },
  {
   "cell_type": "code",
   "execution_count": null,
   "metadata": {},
   "outputs": [],
   "source": [
    "#!/usr/bin/env python\n",
    "# -*- coding: utf-8 -*-\n",
    "\n",
    "import socket\n",
    "import pickle\n",
    "\n",
    "\n",
    "class test_obj():\n",
    "    def __init__(self):\n",
    "        self.NAME = 'ddc722e720e8c67fc5219640c927c257132ec854'\n",
    "        self.uuid = \"423566c9-02f6-475e-a073-8eac27c3c5ea\"\n",
    "\n",
    "\n",
    "sock = socket.socket()\n",
    "sock.connect(('localhost', 3030))\n",
    "\n",
    "someobject = test_obj()\n",
    "\n",
    "bytes = pickle.dumps(someobject)\n",
    "sock.send(bytes)\n",
    "\n",
    "\n",
    "data = sock.recv(4194304)\n",
    "sock.close()\n",
    "\n",
    "print(data)\n"
   ]
  },
  {
   "cell_type": "code",
   "execution_count": null,
   "metadata": {},
   "outputs": [],
   "source": [
    "import ctypes\n",
    "MyDllObject = ctypes.cdll.LoadLibrary(\n",
    "    r\"/home/xsa/DEV/xsa-dev/grpc/examples/cpp/vcmi/bin/libvcmi.so\")\n"
   ]
  },
  {
   "cell_type": "code",
   "execution_count": null,
   "metadata": {},
   "outputs": [],
   "source": [
    "MyDllObject.ConsoleHandler\n"
   ]
  },
  {
   "cell_type": "code",
   "execution_count": null,
   "metadata": {},
   "outputs": [],
   "source": [
    "# list exported functions from dll with ctypes\n",
    "!nm - D \"/home/xsa/DEV/xsa-dev/grpc/examples/cpp/vcmi/bin/libvcmi.so\"\n"
   ]
  },
  {
   "cell_type": "code",
   "execution_count": null,
   "metadata": {},
   "outputs": [],
   "source": [
    "MyDllObject._ZN11PlayerState9serializeI16BinarySerializerEEvRT_i\n"
   ]
  },
  {
   "cell_type": "code",
   "execution_count": null,
   "metadata": {},
   "outputs": [],
   "source": [
    "var_a = 31\n",
    "MyDllObject.printf(b\"Print int_a = %d\\n\", var_a)\n"
   ]
  },
  {
   "cell_type": "code",
   "execution_count": null,
   "metadata": {},
   "outputs": [],
   "source": [
    "\n",
    "headless_command = \"~/DEV/xsa-dev/grpc/examples/cpp/vcmi/bin/vcmiserver\"\n",
    "subprocess.run(headless_command, shell=True, check=True)"
   ]
  },
  {
   "cell_type": "code",
   "execution_count": null,
   "metadata": {},
   "outputs": [],
   "source": [
    "\n"
   ]
  },
  {
   "cell_type": "code",
   "execution_count": null,
   "metadata": {},
   "outputs": [],
   "source": [
    "# смотри CConnection в connect.cpp\n",
    "# CConnection::CConnection(std::string host, ui16 port, std::string Name, std::string UUID)\n",
    "    # : io_service(std::make_shared<asio::io_service>()), iser(this), oser(this), name(Name), uuid(UUID), connectionID(0)\n",
    "# Тоесть объект CConnection используется как сервис отправки/получения\n",
    "#  одновременно создает сервис сирилизации/десериализации io_service\n",
    "\n",
    "import socket\n",
    "from time import sleep\n",
    "\n",
    "# Параметры Connection\n",
    "# string\n",
    "host = '127.0.0.1'\n",
    "# ui16 беззнаковое 16-ричное\n",
    "port = 3030\n",
    "# string\n",
    "name = 'name'\n",
    "# string\n",
    "uuid = 'uuid'\n",
    "# сирализаторы на ввод и вывод\n",
    "iser = None\n",
    "oser = None\n",
    "\n",
    "send_buffer_size = 4194304\n",
    "receive_buffer_size = 4194304\n",
    "\n",
    "# with socket.socket(socket.AF_INET, socket.SOCK_STREAM) as s:\n",
    "#     s.bind((host, port))\n",
    "#     s.listen()\n",
    "#     conn, addr = s.accept()\n",
    "#     with conn:\n",
    "#         print('Connected by', addr)\n",
    "#         while True:\n",
    "#             data = conn.recv(1024)\n",
    "#             if not data:\n",
    "#                 break\n",
    "#             conn.sendall(data)\n",
    "\n",
    "with socket.socket(socket.AF_INET, socket.SOCK_STREAM) as s:\n",
    "    s.setsockopt(socket.SOL_SOCKET, socket.SO_SNDBUF, send_buffer_size)\n",
    "    s.connect((host, port))\n",
    "    #s.sendall(b'Hello, world')\n",
    "    sleep(1)\n",
    "    data = s.recv(receive_buffer_size)\n",
    "\n",
    "print(data.decode())"
   ]
  },
  {
   "cell_type": "code",
   "execution_count": null,
   "metadata": {},
   "outputs": [],
   "source": [
    "Сначала происходит коннект клиента, на этом этапе просто создается соединение. В CConnection::Connection\n",
    "создается объект \"c\" типа CConnection.\n",
    "\n",
    "Затем клиент оправляет pack LobbyClientConnected. Pack это и есть запрос к серверу/клиенту и в нет паках прописаны все необходимые для взаимодействия сервера и клиента запросы.\n",
    "\n",
    "Паки прописаны структурами. Структуры для лобби описаны в NetPacksLobb.h. В структуре каждый раз описывается функция serialize: \n",
    "\n",
    "(Код для LobbyClientConnected. Как работает этот код я не понимаю:\n",
    "\n",
    "template <typename Handler> void serialize(Handler & h, const int version)\n",
    "    {\n",
    "        h & uuid;   \n",
    "        h & names;\n",
    "        h & mode;\n",
    "\n",
    "        h & clientId;\n",
    "        h & hostClientId;\n",
    "    }\n",
    "\n",
    ")\n",
    "\n",
    "Клиент отправляет запрос на подключение в CServerHandler::sendClientConnecting, который и создает экземпляр\n",
    "структуры LobbyClientConnected и передает сформированный запрос уже непосредственно на отправку \n",
    "в CConnection::sendPack"
   ]
  },
  {
   "cell_type": "code",
   "execution_count": null,
   "metadata": {},
   "outputs": [],
   "source": [
    "import socket\n",
    "from time import sleep"
   ]
  },
  {
   "cell_type": "code",
   "execution_count": 30,
   "metadata": {},
   "outputs": [
    {
     "name": "stdout",
     "output_type": "stream",
     "text": [
      "\n",
      " data 1\n",
      "\n"
     ]
    }
   ],
   "source": [
    "host = '127.0.0.1'\n",
    "port = 3030\n",
    "name = 'Player'\n",
    "uuid = '51d53183-fbf6-46a0-af37-8fb73f241074'\n",
    "myEndianess = True\n",
    "StartInfo =\"NEW_GAME\"\n",
    "buffer_size = 4194304\n",
    "\n",
    "print('\\n data 1\\n')\n",
    "with socket.socket(socket.AF_INET, socket.SOCK_STREAM) as s:\n",
    "    s.setsockopt(socket.SOL_SOCKET, socket.SO_SNDBUF, buffer_size)\n",
    "    s.connect((host, port))\n",
    "    s.sendall(b'\\x06\\x00\\x00\\x00Aiya!\\n;\\x00\\x00\\x00VCMI 0.99 ddc722e720e8c67fc5219640c927c257132ec854 (server)$\\x00\\x00\\x00c42080c1-9e25-4dda-a3e1-2ec09dfae90d\\x01')\n",
    "    sleep(1)\n",
    "    data1 = s.recv(buffer_size)\n",
    "    # print(data1.decode())\n",
    "    # s.sendall(b'Player')\n",
    "    # sleep(1)\n",
    "    # data2 = s.recv(buffer_size)\n",
    "    # print(data2)\n",
    "# Aiya!\n",
    "# ;VCMI 0.99 8cae3398ba93d8c7de0879710c529f276d9148b9 (server)$f3fe61a0-54b6-4a80-881e-e530204ddac1\n",
    "# res = data.decode()\n"
   ]
  },
  {
   "cell_type": "code",
   "execution_count": 2,
   "metadata": {},
   "outputs": [
    {
     "name": "stdout",
     "output_type": "stream",
     "text": [
      "\n",
      " data 1\n",
      "\n",
      "b'\\x06\\x00\\x00\\x00Aiya!\\n;\\x00\\x00\\x00VCMI 0.99 ddc722e720e8c67fc5219640c927c257132ec854 (server)$\\x00\\x00\\x00c42080c1-9e25-4dda-a3e1-2ec09dfae90d\\x01'\n",
      "\n",
      " data 2\n",
      "\n"
     ]
    },
    {
     "ename": "KeyboardInterrupt",
     "evalue": "",
     "output_type": "error",
     "traceback": [
      "\u001b[0;31m---------------------------------------------------------------------------\u001b[0m",
      "\u001b[0;31mKeyboardInterrupt\u001b[0m                         Traceback (most recent call last)",
      "\u001b[0;32m/tmp/ipykernel_20791/3883159938.py\u001b[0m in \u001b[0;36m<module>\u001b[0;34m\u001b[0m\n\u001b[1;32m     64\u001b[0m     \u001b[0ms\u001b[0m\u001b[0;34m.\u001b[0m\u001b[0mbind\u001b[0m\u001b[0;34m(\u001b[0m\u001b[0;34m(\u001b[0m\u001b[0mhost\u001b[0m\u001b[0;34m,\u001b[0m \u001b[0;36m9090\u001b[0m\u001b[0;34m)\u001b[0m\u001b[0;34m)\u001b[0m\u001b[0;34m\u001b[0m\u001b[0;34m\u001b[0m\u001b[0m\n\u001b[1;32m     65\u001b[0m     \u001b[0ms\u001b[0m\u001b[0;34m.\u001b[0m\u001b[0mlisten\u001b[0m\u001b[0;34m(\u001b[0m\u001b[0;34m)\u001b[0m\u001b[0;34m\u001b[0m\u001b[0;34m\u001b[0m\u001b[0m\n\u001b[0;32m---> 66\u001b[0;31m     \u001b[0mconn\u001b[0m\u001b[0;34m,\u001b[0m \u001b[0maddr\u001b[0m \u001b[0;34m=\u001b[0m \u001b[0ms\u001b[0m\u001b[0;34m.\u001b[0m\u001b[0maccept\u001b[0m\u001b[0;34m(\u001b[0m\u001b[0;34m)\u001b[0m\u001b[0;34m\u001b[0m\u001b[0;34m\u001b[0m\u001b[0m\n\u001b[0m\u001b[1;32m     67\u001b[0m     \u001b[0;32mwith\u001b[0m \u001b[0mconn\u001b[0m\u001b[0;34m:\u001b[0m\u001b[0;34m\u001b[0m\u001b[0;34m\u001b[0m\u001b[0m\n\u001b[1;32m     68\u001b[0m         \u001b[0mprint\u001b[0m\u001b[0;34m(\u001b[0m\u001b[0;34m'Connected by'\u001b[0m\u001b[0;34m,\u001b[0m \u001b[0maddr\u001b[0m\u001b[0;34m)\u001b[0m\u001b[0;34m\u001b[0m\u001b[0;34m\u001b[0m\u001b[0m\n",
      "\u001b[0;32m~/anaconda3/envs/my_rl_env/lib/python3.7/socket.py\u001b[0m in \u001b[0;36maccept\u001b[0;34m(self)\u001b[0m\n\u001b[1;32m    210\u001b[0m         \u001b[0mFor\u001b[0m \u001b[0mIP\u001b[0m \u001b[0msockets\u001b[0m\u001b[0;34m,\u001b[0m \u001b[0mthe\u001b[0m \u001b[0maddress\u001b[0m \u001b[0minfo\u001b[0m \u001b[0;32mis\u001b[0m \u001b[0ma\u001b[0m \u001b[0mpair\u001b[0m \u001b[0;34m(\u001b[0m\u001b[0mhostaddr\u001b[0m\u001b[0;34m,\u001b[0m \u001b[0mport\u001b[0m\u001b[0;34m)\u001b[0m\u001b[0;34m.\u001b[0m\u001b[0;34m\u001b[0m\u001b[0;34m\u001b[0m\u001b[0m\n\u001b[1;32m    211\u001b[0m         \"\"\"\n\u001b[0;32m--> 212\u001b[0;31m         \u001b[0mfd\u001b[0m\u001b[0;34m,\u001b[0m \u001b[0maddr\u001b[0m \u001b[0;34m=\u001b[0m \u001b[0mself\u001b[0m\u001b[0;34m.\u001b[0m\u001b[0m_accept\u001b[0m\u001b[0;34m(\u001b[0m\u001b[0;34m)\u001b[0m\u001b[0;34m\u001b[0m\u001b[0;34m\u001b[0m\u001b[0m\n\u001b[0m\u001b[1;32m    213\u001b[0m         \u001b[0msock\u001b[0m \u001b[0;34m=\u001b[0m \u001b[0msocket\u001b[0m\u001b[0;34m(\u001b[0m\u001b[0mself\u001b[0m\u001b[0;34m.\u001b[0m\u001b[0mfamily\u001b[0m\u001b[0;34m,\u001b[0m \u001b[0mself\u001b[0m\u001b[0;34m.\u001b[0m\u001b[0mtype\u001b[0m\u001b[0;34m,\u001b[0m \u001b[0mself\u001b[0m\u001b[0;34m.\u001b[0m\u001b[0mproto\u001b[0m\u001b[0;34m,\u001b[0m \u001b[0mfileno\u001b[0m\u001b[0;34m=\u001b[0m\u001b[0mfd\u001b[0m\u001b[0;34m)\u001b[0m\u001b[0;34m\u001b[0m\u001b[0;34m\u001b[0m\u001b[0m\n\u001b[1;32m    214\u001b[0m         \u001b[0;31m# Issue #7995: if no default timeout is set and the listening\u001b[0m\u001b[0;34m\u001b[0m\u001b[0;34m\u001b[0m\u001b[0;34m\u001b[0m\u001b[0m\n",
      "\u001b[0;31mKeyboardInterrupt\u001b[0m: "
     ]
    }
   ],
   "source": [
    "# смотри CConnection в connect.cpp\n",
    "# CConnection::CConnection(std::string host, ui16 port, std::string Name, std::string UUID)\n",
    "    # : io_service(std::make_shared<asio::io_service>()), iser(this), oser(this), name(Name), uuid(UUID), connectionID(0)\n",
    "# Тоесть объект CConnection используется как сервис отправки/получения\n",
    "#  одновременно создает сервис сирилизации/десериализации io_service\n",
    "\n",
    "import socket\n",
    "from time import sleep\n",
    "\n",
    "# Параметры Connection\n",
    "# string\n",
    "host = '127.0.0.1'\n",
    "# ui16 беззнаковое 16-ричное\n",
    "port = 3030\n",
    "# string\n",
    "name = 'Player'\n",
    "# string\n",
    "uuid = '51d53183-fbf6-46a0-af37-8fb73f241074'\n",
    "myEndianess = True\n",
    "\n",
    "# pom = VCMI 0.99 8cae3398ba93d8c7de0879710c529f276d9148b9 (server)\n",
    "# сирализаторы на ввод и вывод\n",
    "iser = None\n",
    "oser = None\n",
    "\n",
    "buffer_size = 4194304\n",
    "\n",
    "# with socket.socket(socket.AF_INET, socket.SOCK_STREAM) as s:\n",
    "#     s.bind((host, 9090))\n",
    "#     s.listen()\n",
    "#     conn, addr = s.accept()\n",
    "#     with conn:\n",
    "#         print('Connected by', addr)\n",
    "#         while True:\n",
    "#             data = conn.recv(1024)\n",
    "#             if not data:\n",
    "#                 break\n",
    "#             conn.sendall(data)\n",
    "\n",
    "# def server_params(data):\n",
    "#     line = data.split(' ')[-1].split('$')[-1]\n",
    "#     print(f'server uuid: {line}')\n",
    "print('\\n data 1\\n')\n",
    "with socket.socket(socket.AF_INET, socket.SOCK_STREAM) as s:\n",
    "    s.setsockopt(socket.SOL_SOCKET, socket.SO_SNDBUF, buffer_size)\n",
    "    s.connect((host, port))\n",
    "    # s.sendall(b'Heloo')\n",
    "    sleep(1)\n",
    "    data1 = s.recv(buffer_size)\n",
    "\n",
    "\n",
    "\n",
    "# Aiya!\n",
    "# ;VCMI 0.99 8cae3398ba93d8c7de0879710c529f276d9148b9 (server)$f3fe61a0-54b6-4a80-881e-e530204ddac1\n",
    "\n",
    "\n",
    "# res = data.decode()\n",
    "print(data1)\n",
    "# server_params(res)\n",
    "# print(data2.decode())\n",
    "\n",
    "print('\\n data 2\\n')\n",
    "with socket.socket(socket.AF_INET, socket.SOCK_STREAM) as s:\n",
    "    s.bind((host, 9090))\n",
    "    s.listen()\n",
    "    conn, addr = s.accept()\n",
    "    with conn:\n",
    "        print('Connected by', addr)\n",
    "        while True:\n",
    "            conn.sendall(data1)\n",
    "            sleep(1)\n",
    "            data2 = conn.recv(buffer_size)\n",
    "            if not data2:\n",
    "                break\n",
    "            print(data2)\n",
    "            break\n",
    "\n",
    "\n",
    "# b'\\x06\\x00\\x00\\x00Aiya!\\n;\\x00\\x00\\x00VCMI 0.99 8cae3398ba93d8c7de0879710c529f276d9148b9 (client)$\\x00\\x00\\x00ecdd9d99-3df9-45a2-9bf8-704ddc315b91\\x01\\x01\\x0e\\x01$\\x00\\x00\\x00ecdd9d99-3df9-45a2-9bf8-704ddc315b91\\x01\\x00\\x00\\x00\\x06\\x00\\x00\\x00Player\\x00\\x00\\x00\\x00\\xff\\xff\\xff\\xff\\xff\\xff\\xff\\xff'\n",
    "\n",
    "print('\\n data 3\\n')\n",
    "with socket.socket(socket.AF_INET, socket.SOCK_STREAM) as s:\n",
    "    s.setsockopt(socket.SOL_SOCKET, socket.SO_SNDBUF, buffer_size)\n",
    "    s.connect((host, port))\n",
    "    s.sendall(data2)\n",
    "    sleep(1)\n",
    "    data3 = s.recv(buffer_size)\n",
    "\n",
    "\n",
    "# b'\\x06\\x00\\x00\\x00Aiya!\\n;\\x00\\x00\\x00VCMI 0.99 8cae3398ba93d8c7de0879710c529f276d9148b9 (server)$\\x00\\x00\\x00f3fe61a0-54b6-4a80-881e-e530204ddac1\\x01\\x01\\x0e\\x01$\\x00\\x00\\x00ecdd9d99-3df9-45a2-9bf8-704ddc315b91\\x01\\x00\\x00\\x00\\x06\\x00\\x00\\x00Player\\x00\\x00\\x00\\x00\\x01\\x00\\x00\\x00\\x01\\x00\\x00\\x00\\x01\\x14\\x01\\x01\\x00\\x00\\x00\\x00\\x00\\x00\\x00\\x00\\x00\\x00\\x00\\x00\\x00\\x00\\x00\\x00\\x00\\x00\\x00\\x00\\x00\\x00\\x00\\x00\\x00\\x00\\x00\\x00\\x00\\x00\\x00\\x01\\x00\\x00\\x00\\x01\\x01\\x00\\x00\\x00\\x06\\x00\\x00\\x00Player\\x01\\x00\\x00\\x00\\xff\\xff\\xff\\xff\\xff\\xff\\xff\\xff'\n",
    "\n",
    "\n",
    "print(data3)"
   ]
  },
  {
   "cell_type": "code",
   "execution_count": null,
   "metadata": {},
   "outputs": [],
   "source": []
  },
  {
   "cell_type": "code",
   "execution_count": null,
   "metadata": {},
   "outputs": [],
   "source": [
    "Что сейчаc можно глянуть в connect.py\n",
    "\n",
    "Происходит имитация обмена сообщениями клиента и сервера\n",
    "\n",
    "data1 - сообщение, которое присылает сервер после установки\n",
    "        подключения клиентом\n",
    "\n",
    "data2 - сообщение, присылаемое клиентом, после того, как \n",
    "        сервер отсылает свои данные. В сообщении содержаться\n",
    "        данные клиента\n",
    "\n",
    "Для получения data2 нужно запустить клиент и попробовать подключиться на 127.0.0.1:9090\n",
    "\n",
    "data3 - сообщение присылаемое сервером после, отправки своих данных\n",
    "        клиентом\n",
    "\n",
    "\n",
    "Проблемы, которые сейчас стоят:\n",
    "\n",
    "1) Формат сообщений малопонятен, читаемые строки идут вперемешку с битами непонятного назначения.\n",
    "\n",
    "    Что на данный момент понятно:\n",
    "    \n",
    "    \\xff\\xff\\xff\\xff\\xff\\xff\\xff\\xff - стоповое слово\n",
    "\n",
    "    Данные о версии vcmi\n",
    "    VCMI 0.99 8cae3398ba93d8c7de0879710c529f276d9148b9 (server)\n",
    "    для клиента:\n",
    "    VCMI 0.99 8cae3398ba93d8c7de0879710c529f276d9148b9 (client)\n",
    "\n",
    "    uuid генерируется рандомно, имеет формат:\n",
    "    ecdd9d99-3df9-45a2-9bf8-704ddc315b91\n",
    "    f3fe61a0-54b6-4a80-881e-e530204ddac1\n",
    "\n",
    "    Проект использует для сетевого взаимодействия кроссплатформенную библиотеку boost.asio\n",
    "\n",
    "    думаю будет полезно немного посмотреть примеры для библиотеки\n",
    "\n",
    "    далее думаю поотслеживать как формируются сообщения в коде\n",
    "\n",
    "Разбор сообщений:\n",
    "\n",
    "1) data1 - первое сообщение сервера, после установки соединения\n",
    "\n",
    "# Aiya!\n",
    "# ;VCMI 0.99 8cae3398ba93d8c7de0879710c529f276d9148b9 (server)$f3fe61a0-54b6-4a80-881e-e530204ddac1\n",
    "    \n",
    "\"Aiya\\n\" - идет в начале всех пока рассмотренных сообщений\n",
    "\n",
    "uuid сервера: f3fe61a0-54b6-4a80-881e-e530204ddac1\n",
    "\n",
    "VCMI 0.99 8cae3398ba93d8c7de0879710c529f276d9148b9 (server) 8cae3398ba93d8c7de0879710c529f276d9148b9 - до конца непонятно что такое, есть соображение что идентифицирует сессию\n",
    "\n",
    "2) data2 - первое сообщение клиента серверу\n",
    "\n",
    "# b'\\x06\\x00\\x00\\x00Aiya!\\n;\\x00\\x00\\x00VCMI 0.99 8cae3398ba93d8c7de0879710c529f276d9148b9 (client)$\\x00\\x00\\x00ecdd9d99-3df9-45a2-9bf8-704ddc315b91\\x01\\x01\\x0e\\x01$\\x00\\x00\\x00ecdd9d99-3df9-45a2-9bf8-704ddc315b91\\x01\\x00\\x00\\x00\\x06\\x00\\x00\\x00Player\\x00\\x00\\x00\\x00\\xff\\xff\\xff\\xff\\xff\\xff\\xff\\xff'\n",
    "\n",
    "\\x06\\x00\\x00\\x00 - похоже что это разделитель и маркер начала сообщения\n",
    "\n",
    "\"Aiya\\n\" - идет в начале всех пока рассмотренных сообщений\n",
    "\n",
    "\\x00\\x00\\x00 - разделитель\n",
    "\n",
    "верия vcmi: VCMI 0.99 8cae3398ba93d8c7de0879710c529f276d9148b9\n",
    "\n",
    "uudi - ecdd9d99-3df9-45a2-9bf8-704ddc315b91\n",
    "причем продублированный два раза\n",
    "\n",
    "Player - имя игрока\n",
    "\n",
    "\\xff\\xff\\xff\\xff\\xff\\xff\\xff\\xff - обозначает конец сообщения\n",
    "\n",
    "3) data3\n",
    "\n",
    "# b'\\x06\\x00\\x00\\x00Aiya!\\n;\\x00\\x00\\x00VCMI 0.99 8cae3398ba93d8c7de0879710c529f276d9148b9 (server)$\\x00\\x00\\x00f3fe61a0-54b6-4a80-881e-e530204ddac1\\x01\\x01\\x0e\\x01$\\x00\\x00\\x00ecdd9d99-3df9-45a2-9bf8-704ddc315b91\\x01\\x00\\x00\\x00\\x06\\x00\\x00\\x00Player\\x00\\x00\\x00\\x00\\x01\\x00\\x00\\x00\\x01\\x00\\x00\\x00\\x01\\x14\\x01\\x01\\x00\\x00\\x00\\x00\\x00\\x00\\x00\\x00\\x00\\x00\\x00\\x00\\x00\\x00\\x00\\x00\\x00\\x00\\x00\\x00\\x00\\x00\\x00\\x00\\x00\\x00\\x00\\x00\\x00\\x00\\x00\\x01\\x00\\x00\\x00\\x01\\x01\\x00\\x00\\x00\\x06\\x00\\x00\\x00Player\\x01\\x00\\x00\\x00\\xff\\xff\\xff\\xff\\xff\\xff\\xff\\xff'\n",
    "\n",
    "все тоже самое в начале, но назначение последующих битов\n",
    "неизвестно"
   ]
  }
 ],
 "metadata": {
  "interpreter": {
   "hash": "e4d0776e5f0095e5263d8593e2fd720cdc769caff50812a8a080fce4f614aab9"
  },
  "kernelspec": {
   "display_name": "Python 3",
   "language": "python",
   "name": "python3"
  },
  "language_info": {
   "codemirror_mode": {
    "name": "ipython",
    "version": 3
   },
   "file_extension": ".py",
   "mimetype": "text/x-python",
   "name": "python",
   "nbconvert_exporter": "python",
   "pygments_lexer": "ipython3",
   "version": "3.7.11"
  }
 },
 "nbformat": 4,
 "nbformat_minor": 2
}
