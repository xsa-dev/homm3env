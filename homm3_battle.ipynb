{
 "cells": [
  {
   "cell_type": "code",
   "execution_count": 7,
   "metadata": {
    "collapsed": true
   },
   "outputs": [],
   "source": [
    "from gym import Env\n",
    "from gym.spaces import Discrete, Box\n",
    "import numpy as np\n",
    "import random\n",
    "import homm3_battle_server as h3\n",
    "import threading\n",
    "\n",
    "import socketserver\n",
    "import logging\n",
    "import sys\n",
    "import json\n",
    "from datetime import datetime\n",
    "from typing import Dict"
   ]
  },
  {
   "cell_type": "code",
   "execution_count": 30,
   "outputs": [],
   "source": [
    "logPath = 'logs'\n",
    "logsFilename = str(datetime.now().date())\n",
    "logging.basicConfig(\n",
    "    level=logging.DEBUG,\n",
    "    format=\"%(asctime)s [%(levelname)s] %(message)s\",\n",
    "    handlers=[\n",
    "        logging.FileHandler(f\"{logPath}/{logsFilename}.log\"),\n",
    "        logging.StreamHandler()\n",
    "    ]\n",
    ")"
   ],
   "metadata": {
    "collapsed": false,
    "pycharm": {
     "name": "#%%\n"
    }
   }
  },
  {
   "cell_type": "code",
   "execution_count": 3,
   "outputs": [],
   "source": [
    "def singleton(class_):\n",
    "    instances = {}\n",
    "\n",
    "    def getinstance(*args, **kwargs):\n",
    "        if class_ not in instances:\n",
    "            instances[class_] = class_(*args, **kwargs)\n",
    "        return instances[class_]\n",
    "\n",
    "    return getinstance"
   ],
   "metadata": {
    "collapsed": false,
    "pycharm": {
     "name": "#%%\n"
    }
   }
  },
  {
   "cell_type": "code",
   "execution_count": 4,
   "outputs": [],
   "source": [
    "# CONSTANTS\n",
    "BLOCK_LOGIC = True\n",
    "DEFAULT_LOGIC = False\n",
    "COMPUTER = 'LeftUser'\n",
    "USER = 'RightUser'\n",
    "TIMEOUT = 0.1\n",
    "\n",
    "@singleton\n",
    "class hom3instance:\n",
    "    def __init__(self):\n",
    "        # server state variables (default)\n",
    "        self.current_team = None\n",
    "        self.tcp_responses_counter = 0\n",
    "        self.last_connection_timestamp = 0\n",
    "        self.is_service_active = None\n",
    "\n",
    "        # game state variables\n",
    "        self.winner = None\n",
    "        self.last_team = None\n",
    "\n",
    "        # computer state\n",
    "        self.is_computer = None\n",
    "        self.computer_units = None\n",
    "        self.computer_possible_moves = None\n",
    "\n",
    "        # human state\n",
    "        self.is_player = None\n",
    "        self.player_units = None\n",
    "        self.player_possible_moves = None\n",
    "\n",
    "        # action\n",
    "        self.action = None\n",
    "\n",
    "    def get_service_active_state(self) -> bool:\n",
    "        # show timeout service state response\n",
    "        current_timestamp = datetime.now().timestamp()\n",
    "        if (TIMEOUT + self.last_connection_timestamp) - current_timestamp >= 0:\n",
    "            return True\n",
    "        else:\n",
    "            raise Exception('Timeout!! Too slow...')\n",
    "\n",
    "    def get_winner(self):\n",
    "        if self.last_team == USER:\n",
    "            self.winner = USER\n",
    "        else:\n",
    "            self.winner = COMPUTER\n",
    "\n",
    "    def json_handler_logic(self, request):\n",
    "        logging.info(f'@@@@ {self.current_team} @@@@')\n",
    "        self.tcp_responses_counter += 1\n",
    "        self.last_connection_timestamp = datetime.now().timestamp()\n",
    "        self.is_service_active = self.get_service_active_state()\n",
    "        # определяем за кого сейчас определяется действие\n",
    "        if request['currentSide'] == 0:\n",
    "            self.current_team = USER\n",
    "            self.is_computer = False\n",
    "            self.is_player = True\n",
    "        if request['currentSide'] == 1:\n",
    "            self.current_team = COMPUTER\n",
    "            self.is_computer = True\n",
    "            self.is_player = False\n",
    "\n",
    "        # if BLOCK_LOGIC:\n",
    "        #    time.sleep(60)\n",
    "\n",
    "        logging.info(f'{request}')\n",
    "        action = {\"type\": \"4\"}\n",
    "        if len(request[\"actions\"][\"possibleAttacks\"]) > 0:\n",
    "            attack = request[\"actions\"][\"possibleAttacks\"][0]\n",
    "            action = {\n",
    "                \"type\": 1 if attack[\"shooting\"] else 2,\n",
    "                \"targetId\": attack[\"defenderId\"],\n",
    "                \"moveToHex\": attack[\"moveToHex\"]\n",
    "            }\n",
    "        elif len(request[\"actions\"][\"possibleMoves\"]) > 0:\n",
    "            action = {\n",
    "                \"type\": 0,\n",
    "                \"moveToHex\": request[\"actions\"][\"possibleMoves\"][0]\n",
    "            }\n",
    "        logging.info(f'{action}')\n",
    "        logging.info(f'{self.tcp_responses_counter}')\n",
    "        logging.info(f'@@@@ {self.last_connection_timestamp} @@@@')\n",
    "\n",
    "        self.action = action\n",
    "        return action\n",
    "\n"
   ],
   "metadata": {
    "collapsed": false,
    "pycharm": {
     "name": "#%%\n"
    }
   }
  },
  {
   "cell_type": "code",
   "execution_count": null,
   "outputs": [],
   "source": [
    "class HoMM3BattleTCPHandler(socketserver.BaseRequestHandler):\n",
    "    def handle(self):\n",
    "        # когда приходит запрос\n",
    "        data = self.request.recv(32000).strip()\n",
    "        # считывается json\n",
    "        json_data = json.loads(data)\n",
    "        # TODO: to ML predictions in GYM\n",
    "\n",
    "        try:\n",
    "            action = hom3instance().json_handler_logic(request=json_data)\n",
    "        except Exception as ex:\n",
    "            raise ex\n",
    "\n",
    "        self.callback(request = self.request, json_command=action)\n",
    "\n",
    "    def callback(self, request, json_command):\n",
    "        request.sendall(json_command.dumps(action).encode('ascii'))\n"
   ],
   "metadata": {
    "collapsed": false,
    "pycharm": {
     "name": "#%%\n",
     "is_executing": true
    }
   }
  },
  {
   "cell_type": "code",
   "execution_count": 8,
   "outputs": [],
   "source": [
    "class TcpServer:\n",
    "    def __init__(self):\n",
    "        self.server = None\n",
    "\n",
    "    def start_tcp_server(self, host: str, port: int):\n",
    "        with socketserver.TCPServer((host, port), HoMM3BattleTCPHandler) as self.server:\n",
    "            try:\n",
    "                self.server.allow_reuse_address = True\n",
    "                self.server.serve_forever(poll_interval=0.1)\n",
    "\n",
    "            except Exception as ex:\n",
    "                logging.critical(msg=f'Problem: {str(ex)}\\nexit')\n",
    "                sys.exit(1)\n",
    "\n",
    "    def stop_tcp_server(self):\n",
    "        self.server.shutdown()\n",
    "        self.server.server_close()\n",
    "        print('Server stopped.')"
   ],
   "metadata": {
    "collapsed": false,
    "pycharm": {
     "name": "#%%\n"
    }
   }
  },
  {
   "cell_type": "code",
   "execution_count": 34,
   "outputs": [],
   "source": [
    "class HoMM3_B(Env):\n",
    "    def __init__(self):\n",
    "        self.state = 5\n",
    "        pass\n",
    "\n",
    "    def step(self, action):\n",
    "        # ждёт запроса от среды о отдаёт действие\n",
    "        reward = 1\n",
    "        done = False\n",
    "        self.state -= 1\n",
    "        if self.state <= 0:\n",
    "            done = True\n",
    "        info = dict()\n",
    "        return self.state, reward, done, info\n",
    "\n",
    "    def render(self):\n",
    "        pass\n",
    "\n",
    "    def reset(self):\n",
    "        self.state = 0\n",
    "        pass"
   ],
   "metadata": {
    "collapsed": false,
    "pycharm": {
     "name": "#%%\n"
    }
   }
  },
  {
   "cell_type": "code",
   "execution_count": 35,
   "outputs": [],
   "source": [
    "env = HoMM3_B()"
   ],
   "metadata": {
    "collapsed": false,
    "pycharm": {
     "name": "#%%\n"
    }
   }
  },
  {
   "cell_type": "code",
   "execution_count": 36,
   "outputs": [
    {
     "name": "stdout",
     "output_type": "stream",
     "text": [
      "Episode:1 Score:1\n",
      "Episode:2 Score:1\n",
      "Episode:3 Score:1\n",
      "Episode:4 Score:1\n",
      "Episode:5 Score:1\n",
      "Episode:6 Score:1\n",
      "Episode:7 Score:1\n",
      "Episode:8 Score:1\n",
      "Episode:9 Score:1\n",
      "Episode:10 Score:1\n"
     ]
    }
   ],
   "source": [
    "# TODO: TEST AND DEVELOP!\n",
    "episodes = 10\n",
    "for episode in range(1, episodes+1):\n",
    "    state = env.reset()\n",
    "    done = False\n",
    "    score = 0\n",
    "\n",
    "    while not done:\n",
    "        env.render()\n",
    "        action = random.choice([0,1])\n",
    "        n_state, reward, done, info = env.step(action)\n",
    "        score+=reward\n",
    "    print('Episode:{} Score:{}'.format(episode, score))"
   ],
   "metadata": {
    "collapsed": false,
    "pycharm": {
     "name": "#%%\n"
    }
   }
  },
  {
   "cell_type": "code",
   "execution_count": 19,
   "outputs": [],
   "source": [
    "class HoMM3_Battle_Env(Env):\n",
    "    def __init__(self):\n",
    "        # ai service\n",
    "        self.tcp_server = h3.TcpServer()\n",
    "        self.tcp_thread = threading.Thread(\n",
    "            target=self.tcp_server.start_tcp_server,\n",
    "            args=('localhost', 9999),\n",
    "            daemon=True\n",
    "        )\n",
    "        self.tcp_thread.start()\n",
    "        # game\n",
    "        self.vcmi_thread = threading.Thread(\n",
    "            target=h3.start_vcmi_test_battle,\n",
    "            args=[False],\n",
    "            daemon=True\n",
    "        )\n",
    "        self.vcmi_thread.start()\n",
    "\n",
    "        self.action_space = Discrete(4)\n",
    "\n",
    "        # TODO: update from json\n",
    "        self.state = 10 + random.randint(-3,3)\n",
    "        self.stack_length = 10\n",
    "\n",
    "        # TODO: after init block for step command\n",
    "        pass\n",
    "\n",
    "    def step(self, action):\n",
    "        self.stack_length -= 1\n",
    "        if self.stack_length <= 0:\n",
    "            done = True\n",
    "        else:\n",
    "            done = False\n",
    "        self.state += random.randint(-1,1)\n",
    "        reward = 0\n",
    "        # placeholder for info\n",
    "        info = {}\n",
    "        # return step information\n",
    "        return self.state, reward, done, info\n",
    "\n",
    "    def render(self):\n",
    "        # пока делаем headless\n",
    "        pass\n",
    "\n",
    "    def reset(self):\n",
    "        # self.vcmi_thread.kill()\n",
    "        # self.tcp_server.kill()\n",
    "        vcmi_killer_thread = threading.Thread(\n",
    "            target=h3.kill_vcmi,\n",
    "            daemon=True\n",
    "        )\n",
    "        vcmi_killer_thread.start()\n",
    "        tcp_killer_thread = threading.Thread(\n",
    "            target=self.tcp_server.stop_tcp_server,\n",
    "            daemon=True\n",
    "        )\n",
    "        tcp_killer_thread.start()\n",
    "        vcmi_killer_thread.join()\n",
    "        tcp_killer_thread.join()\n",
    "        self.state = 5\n",
    "        return self.state"
   ],
   "metadata": {
    "collapsed": false,
    "pycharm": {
     "name": "#%%\n"
    }
   }
  },
  {
   "cell_type": "code",
   "execution_count": null,
   "outputs": [],
   "source": [
    "# среда подготавливается и ждёт хода\n",
    "env = HoMM3_Battle_Env()"
   ],
   "metadata": {
    "collapsed": false,
    "pycharm": {
     "name": "#%%\n"
    }
   }
  },
  {
   "cell_type": "code",
   "execution_count": null,
   "outputs": [],
   "source": [
    "# выключает всё\n",
    "env.reset()"
   ],
   "metadata": {
    "collapsed": false,
    "pycharm": {
     "name": "#%%\n"
    }
   }
  },
  {
   "cell_type": "code",
   "execution_count": 13,
   "outputs": [
    {
     "name": "stderr",
     "output_type": "stream",
     "text": [
      "Exception in thread Thread-29:\n",
      "Traceback (most recent call last):\n",
      "  File \"/opt/anaconda3/envs/RL_Snake/lib/python3.8/threading.py\", line 932, in _bootstrap_inner\n",
      "Exception in thread Thread-31:\n",
      "Traceback (most recent call last):\n",
      "  File \"/opt/anaconda3/envs/RL_Snake/lib/python3.8/threading.py\", line 932, in _bootstrap_inner\n",
      "    Exception in thread Thread-33:\n",
      "Traceback (most recent call last):\n",
      "  File \"/opt/anaconda3/envs/RL_Snake/lib/python3.8/threading.py\", line 932, in _bootstrap_inner\n",
      "self.run()\n",
      "  File \"/opt/anaconda3/envs/RL_Snake/lib/python3.8/threading.py\", line 870, in run\n",
      "Exception in thread Thread-35:\n",
      "Traceback (most recent call last):\n",
      "  File \"/opt/anaconda3/envs/RL_Snake/lib/python3.8/threading.py\", line 932, in _bootstrap_inner\n",
      "    self.run()\n",
      "  File \"/opt/anaconda3/envs/RL_Snake/lib/python3.8/threading.py\", line 870, in run\n",
      "        self._target(*self._args, **self._kwargs)self.run()\n",
      "  File \"/opt/anaconda3/envs/RL_Snake/lib/python3.8/threading.py\", line 870, in run\n",
      "    \n",
      "self.run()\n",
      "  File \"/opt/anaconda3/envs/RL_Snake/lib/python3.8/threading.py\", line 870, in run\n",
      "Exception in thread   File \"/Users/xsa-osx/Documents/GitHub/homm3env/homm3_battle_server.py\", line 141, in stop_tcp_server\n",
      "Thread-37:\n",
      "Traceback (most recent call last):\n",
      "  File \"/opt/anaconda3/envs/RL_Snake/lib/python3.8/threading.py\", line 932, in _bootstrap_inner\n",
      "        self._target(*self._args, **self._kwargs)\n",
      "  File \"/Users/xsa-osx/Documents/GitHub/homm3env/homm3_battle_server.py\", line 141, in stop_tcp_server\n",
      "self.server.shutdown()\n",
      "AttributeError: 'NoneType' object has no attribute 'shutdown'\n",
      "    Exception in thread self._target(*self._args, **self._kwargs)\n",
      "  File \"/Users/xsa-osx/Documents/GitHub/homm3env/homm3_battle_server.py\", line 141, in stop_tcp_server\n",
      "Thread-39:\n",
      "Traceback (most recent call last):\n",
      "  File \"/opt/anaconda3/envs/RL_Snake/lib/python3.8/threading.py\", line 932, in _bootstrap_inner\n",
      "    self._target(*self._args, **self._kwargs)\n",
      "  File \"/Users/xsa-osx/Documents/GitHub/homm3env/homm3_battle_server.py\", line 141, in stop_tcp_server\n",
      "            self.run()\n",
      "  File \"/opt/anaconda3/envs/RL_Snake/lib/python3.8/threading.py\", line 870, in run\n",
      "self.server.shutdown()\n",
      "AttributeError: 'NoneType' object has no attribute 'shutdown'\n",
      "self.server.shutdown()Exception in thread \n",
      "AttributeError: 'NoneType' object has no attribute 'shutdown'\n",
      "Thread-41:\n",
      "Traceback (most recent call last):\n",
      "  File \"/opt/anaconda3/envs/RL_Snake/lib/python3.8/threading.py\", line 932, in _bootstrap_inner\n",
      "        self._target(*self._args, **self._kwargs)\n",
      "  File \"/Users/xsa-osx/Documents/GitHub/homm3env/homm3_battle_server.py\", line 141, in stop_tcp_server\n",
      "self.server.shutdown()\n",
      "AttributeError: 'NoneType' object has no attribute 'shutdown'\n",
      "Exception in thread Thread-43:\n",
      "Traceback (most recent call last):\n",
      "  File \"/opt/anaconda3/envs/RL_Snake/lib/python3.8/threading.py\", line 932, in _bootstrap_inner\n",
      "    self.run()\n",
      "      File \"/opt/anaconda3/envs/RL_Snake/lib/python3.8/threading.py\", line 870, in run\n",
      "self.run()\n",
      "  File \"/opt/anaconda3/envs/RL_Snake/lib/python3.8/threading.py\", line 870, in run\n",
      "Exception in thread Thread-45:\n",
      "Traceback (most recent call last):\n",
      "  File \"/opt/anaconda3/envs/RL_Snake/lib/python3.8/threading.py\", line 932, in _bootstrap_inner\n",
      "    self.run()\n",
      "  File \"/opt/anaconda3/envs/RL_Snake/lib/python3.8/threading.py\", line 870, in run\n",
      "        self._target(*self._args, **self._kwargs)\n",
      "  File \"/Users/xsa-osx/Documents/GitHub/homm3env/homm3_battle_server.py\", line 141, in stop_tcp_server\n",
      "Exception in thread self._target(*self._args, **self._kwargs)\n",
      "  File \"/Users/xsa-osx/Documents/GitHub/homm3env/homm3_battle_server.py\", line 141, in stop_tcp_server\n",
      "    Thread-47    self.run()\n",
      "  File \"/opt/anaconda3/envs/RL_Snake/lib/python3.8/threading.py\", line 870, in run\n",
      "    :\n",
      "Traceback (most recent call last):\n",
      "  File \"/opt/anaconda3/envs/RL_Snake/lib/python3.8/threading.py\", line 932, in _bootstrap_inner\n",
      "self._target(*self._args, **self._kwargs)self.server.shutdown()    \n",
      "    \n",
      "self.server.shutdown()  File \"/Users/xsa-osx/Documents/GitHub/homm3env/homm3_battle_server.py\", line 141, in stop_tcp_server\n",
      "AttributeError: 'NoneType' object has no attribute 'shutdown'\n",
      "\n",
      "AttributeError: 'NoneType' object has no attribute 'shutdown'\n",
      "self.server.shutdown()\n"
     ]
    },
    {
     "name": "stdout",
     "output_type": "stream",
     "text": [
      "Episode:1 Score:0\n",
      "Episode:2 Score:0\n",
      "Episode:3 Score:0\n",
      "Episode:4 Score:0\n",
      "Episode:5 Score:0\n",
      "Episode:6 Score:0\n",
      "Episode:7 Score:0\n",
      "Episode:8 Score:0\n",
      "Episode:9 Score:0\n",
      "Episode:10 Score:0\n"
     ]
    },
    {
     "name": "stderr",
     "output_type": "stream",
     "text": [
      "AttributeError: 'NoneType' object has no attribute 'shutdown'\n",
      "        self.run()\n",
      "  File \"/opt/anaconda3/envs/RL_Snake/lib/python3.8/threading.py\", line 870, in run\n",
      "self.server.shutdown()\n",
      "AttributeError: 'NoneType' object has no attribute 'shutdown'\n",
      "    self._target(*self._args, **self._kwargs)\n",
      "  File \"/Users/xsa-osx/Documents/GitHub/homm3env/homm3_battle_server.py\", line 141, in stop_tcp_server\n",
      "    self._target(*self._args, **self._kwargs)\n",
      "  File \"/Users/xsa-osx/Documents/GitHub/homm3env/homm3_battle_server.py\", line 141, in stop_tcp_server\n",
      "        self.server.shutdown()\n",
      "AttributeErrorself.server.shutdown(): 'NoneType' object has no attribute 'shutdown'\n",
      "\n",
      "AttributeError: 'NoneType' object has no attribute 'shutdown'\n"
     ]
    }
   ],
   "source": [
    "# TODO: TEST AND DEVELOP!\n",
    "episodes = 10\n",
    "for episode in range(1, episodes+1):\n",
    "    state = env.reset()\n",
    "    done = False\n",
    "    score = 0\n",
    "\n",
    "    while not done:\n",
    "        env.render()\n",
    "        action = random.choice([0,1])\n",
    "        n_state, reward, done, info = env.step(action)\n",
    "        score+=reward\n",
    "    print('Episode:{} Score:{}'.format(episode, score))"
   ],
   "metadata": {
    "collapsed": false,
    "pycharm": {
     "name": "#%%\n"
    }
   }
  },
  {
   "cell_type": "code",
   "execution_count": 9,
   "outputs": [],
   "source": [],
   "metadata": {
    "collapsed": false,
    "pycharm": {
     "name": "#%%\n"
    }
   }
  },
  {
   "cell_type": "code",
   "execution_count": null,
   "outputs": [],
   "source": [],
   "metadata": {
    "collapsed": false,
    "pycharm": {
     "name": "#%%\n"
    }
   }
  }
 ],
 "metadata": {
  "kernelspec": {
   "name": "rl_snake",
   "language": "python",
   "display_name": "RL_Snake"
  },
  "language_info": {
   "codemirror_mode": {
    "name": "ipython",
    "version": 2
   },
   "file_extension": ".py",
   "mimetype": "text/x-python",
   "name": "python",
   "nbconvert_exporter": "python",
   "pygments_lexer": "ipython2",
   "version": "2.7.6"
  }
 },
 "nbformat": 4,
 "nbformat_minor": 0
}