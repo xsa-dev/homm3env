{
 "cells": [
  {
   "cell_type": "code",
   "execution_count": 1,
   "id": "optimum-israel",
   "metadata": {},
   "outputs": [],
   "source": [
    "requests = []"
   ]
  },
  {
   "cell_type": "code",
   "execution_count": null,
   "id": "specified-family",
   "metadata": {},
   "outputs": [],
   "source": []
  },
  {
   "cell_type": "code",
   "execution_count": null,
   "id": "intense-prize",
   "metadata": {},
   "outputs": [],
   "source": []
  },
  {
   "cell_type": "code",
   "execution_count": 12,
   "id": "equipped-gentleman",
   "metadata": {},
   "outputs": [],
   "source": [
    "def print_hexs():\n",
    "    for i in range(11):\n",
    "        str_i = ''\n",
    "        for j in range(15):\n",
    "            num = i*15 + j + 1\n",
    "            if num < 10:\n",
    "                str_num = '  ' + str(num) + ' ' \n",
    "            elif 10 <= num < 100:\n",
    "                str_num = '  ' + str(num)\n",
    "            else:\n",
    "                str_num = ' ' + str(num)\n",
    "            str_i += str_num\n",
    "        if i%2 == 0:\n",
    "            print(' ', str_i)\n",
    "        else: \n",
    "            print(str_i)"
   ]
  },
  {
   "cell_type": "code",
   "execution_count": 5,
   "id": "amended-sherman",
   "metadata": {},
   "outputs": [],
   "source": []
  },
  {
   "cell_type": "code",
   "execution_count": 6,
   "id": "double-denmark",
   "metadata": {},
   "outputs": [],
   "source": [
    "# # первая запись\n",
    "# request1 = {'actions': {'canDefend': True, 'canWait': True, 'possibleAttacks': [{'affectedUnitIds': [3], 'damageDealt': 84, 'damageReceived': {'collateral': 0, 'retalitation': 3}, 'defenderId': 3, 'moveToHex': 7, 'shootersBlockedDamage': 0, 'shooting': False}, {'affectedUnitIds': [3], 'damageDealt': 84, 'damageReceived': {'collateral': 0, 'retalitation': 3}, 'defenderId': 3, 'moveToHex': 10, 'shootersBlockedDamage': 0, 'shooting': False}, {'affectedUnitIds': [3], 'damageDealt': 84, 'damageReceived': {'collateral': 0, 'retalitation': 3}, 'defenderId': 3, 'moveToHex': 25, 'shootersBlockedDamage': 0, 'shooting': False}, {'affectedUnitIds': [3], 'damageDealt': 84, 'damageReceived': {'collateral': 0, 'retalitation': 3}, 'defenderId': 3, 'moveToHex': 26, 'shootersBlockedDamage': 0, 'shooting': False}, {'affectedUnitIds': [3], 'damageDealt': 84, 'damageReceived': {'collateral': 0, 'retalitation': 3}, 'defenderId': 3, 'moveToHex': 27, 'shootersBlockedDamage': 0, 'shooting': False}, {'affectedUnitIds': [5], 'damageDealt': 90, 'damageReceived': {'collateral': 0, 'retalitation': 18}, 'defenderId': 5, 'moveToHex': 93, 'shootersBlockedDamage': 0, 'shooting': False}, {'affectedUnitIds': [5], 'damageDealt': 90, 'damageReceived': {'collateral': 0, 'retalitation': 18}, 'defenderId': 5, 'moveToHex': 109, 'shootersBlockedDamage': 0, 'shooting': False}, {'affectedUnitIds': [4], 'damageDealt': 56, 'damageReceived': {'collateral': 0, 'retalitation': 1}, 'defenderId': 4, 'moveToHex': 26, 'shootersBlockedDamage': 0, 'shooting': False}, {'affectedUnitIds': [4], 'damageDealt': 56, 'damageReceived': {'collateral': 0, 'retalitation': 1}, 'defenderId': 4, 'moveToHex': 27, 'shootersBlockedDamage': 0, 'shooting': False}, {'affectedUnitIds': [4], 'damageDealt': 56, 'damageReceived': {'collateral': 0, 'retalitation': 1}, 'defenderId': 4, 'moveToHex': 42, 'shootersBlockedDamage': 0, 'shooting': False}, {'affectedUnitIds': [4], 'damageDealt': 56, 'damageReceived': {'collateral': 0, 'retalitation': 1}, 'defenderId': 4, 'moveToHex': 60, 'shootersBlockedDamage': 0, 'shooting': False}], 'possibleMoves': [2, 3, 4, 5, 6, 7, 10, 18, 19, 20, 21, 22, 23, 24, 25, 26, 27, 36, 37, 38, 39, 40, 41, 42, 53, 54, 55, 58, 59, 60, 69, 70, 71, 74, 75, 76, 86, 87, 88, 89, 90, 91, 92, 93, 103, 104, 105, 106, 107, 108, 109, 120, 121, 124, 125, 126, 137, 138, 139, 140, 141, 142, 154, 155, 156, 157, 158, 159]}, 'activeStackId': 1, 'battlefield': 3, 'currentSide': 0, 'order': [[{'canMove': True, 'canRetalitate': True, 'canWait': False, 'defended': False, 'id': 1, 'initiative': 9, 'queuePhase': 1, 'speed': 9}, {'canMove': True, 'canRetalitate': True, 'canWait': False, 'defended': False, 'id': 3, 'initiative': 6, 'queuePhase': 1, 'speed': 6}, {'canMove': True, 'canRetalitate': True, 'canWait': False, 'defended': False, 'id': 4, 'initiative': 6, 'queuePhase': 1, 'speed': 6}, {'canMove': True, 'canRetalitate': True, 'canWait': False, 'defended': False, 'id': 5, 'initiative': 6, 'queuePhase': 1, 'speed': 6}, {'canMove': True, 'canRetalitate': True, 'canWait': False, 'defended': False, 'id': 6, 'initiative': 6, 'queuePhase': 1, 'speed': 6}, {'canMove': True, 'canRetalitate': True, 'canWait': False, 'defended': False, 'id': 2, 'initiative': 5, 'queuePhase': 1, 'speed': 5}], [{'canMove': True, 'canRetalitate': True, 'canWait': False, 'defended': False, 'id': 0, 'initiative': 11, 'queuePhase': 1, 'speed': 11}, {'canMove': True, 'canRetalitate': True, 'canWait': False, 'defended': False, 'id': 1, 'initiative': 9, 'queuePhase': 1, 'speed': 9}, {'canMove': True, 'canRetalitate': True, 'canWait': False, 'defended': False, 'id': 3, 'initiative': 6, 'queuePhase': 1, 'speed': 6}, {'canMove': True, 'canRetalitate': True, 'canWait': False, 'defended': False, 'id': 4, 'initiative': 6, 'queuePhase': 1, 'speed': 6}, {'canMove': True, 'canRetalitate': True, 'canWait': False, 'defended': False, 'id': 5, 'initiative': 6, 'queuePhase': 1, 'speed': 6}, {'canMove': True, 'canRetalitate': True, 'canWait': False, 'defended': False, 'id': 6, 'initiative': 6, 'queuePhase': 1, 'speed': 6}, {'canMove': True, 'canRetalitate': True, 'canWait': False, 'defended': False, 'id': 2, 'initiative': 5, 'queuePhase': 1, 'speed': 5}], [{'canMove': True, 'canRetalitate': True, 'canWait': False, 'defended': False, 'id': 0, 'initiative': 11, 'queuePhase': 1, 'speed': 11}, {'canMove': True, 'canRetalitate': True, 'canWait': False, 'defended': False, 'id': 1, 'initiative': 9, 'queuePhase': 1, 'speed': 9}, {'canMove': True, 'canRetalitate': True, 'canWait': False, 'defended': False, 'id': 3, 'initiative': 6, 'queuePhase': 1, 'speed': 6}, {'canMove': True, 'canRetalitate': True, 'canWait': False, 'defended': False, 'id': 4, 'initiative': 6, 'queuePhase': 1, 'speed': 6}, {'canMove': True, 'canRetalitate': True, 'canWait': False, 'defended': False, 'id': 5, 'initiative': 6, 'queuePhase': 1, 'speed': 6}, {'canMove': True, 'canRetalitate': True, 'canWait': False, 'defended': False, 'id': 6, 'initiative': 6, 'queuePhase': 1, 'speed': 6}, {'canMove': True, 'canRetalitate': True, 'canWait': False, 'defended': False, 'id': 2, 'initiative': 5, 'queuePhase': 1, 'speed': 5}]], 'stacks': [{'ADDITIONAL_ATTACK': False, 'ADDITIONAL_RETALIATION': True, 'ATTACKS_NEAREST_CREATURE': False, 'LIFE_DRAIN': False, 'NO_DISTANCE_PENALTY': False, 'NO_MELEE_PENALTY': False, 'NO_RETALIATION': False, 'THREE_HEADED_ATTACK': False, 'TWO_HEX_ATTACK_BREATH': False, 'attack': 8, 'canCast': False, 'canShoot': False, 'creatureHealth': 25, 'creatureLevel': 3, 'creatureName': 'griffin', 'creatureType': 4, 'defence': 8, 'doubleWide': True, 'healthLeft': 22, 'hex': 8, 'id': 3, 'isClone': False, 'isGhost': False, 'luck': 0, 'maxDamage': 6, 'minDamage': 3, 'morale': 1, 'ranged': {'attack': 8, 'defence': 8, 'maxDamage': 6, 'minDamage': 3}, 'shots': 0, 'side': 1, 'speed': 6, 'stackCount': 4, 'summoned': False, 'totalHealthLeft': 97}, {'ADDITIONAL_ATTACK': False, 'ADDITIONAL_RETALIATION': True, 'ATTACKS_NEAREST_CREATURE': False, 'LIFE_DRAIN': False, 'NO_DISTANCE_PENALTY': False, 'NO_MELEE_PENALTY': False, 'NO_RETALIATION': False, 'THREE_HEADED_ATTACK': False, 'TWO_HEX_ATTACK_BREATH': False, 'attack': 8, 'canCast': False, 'canShoot': False, 'creatureHealth': 25, 'creatureLevel': 3, 'creatureName': 'griffin', 'creatureType': 4, 'defence': 8, 'doubleWide': True, 'healthLeft': 6, 'hex': 43, 'id': 4, 'isClone': False, 'isGhost': False, 'luck': 0, 'maxDamage': 6, 'minDamage': 3, 'morale': 1, 'ranged': {'attack': 8, 'defence': 8, 'maxDamage': 6, 'minDamage': 3}, 'shots': 0, 'side': 1, 'speed': 6, 'stackCount': 3, 'summoned': False, 'totalHealthLeft': 56}, {'ADDITIONAL_ATTACK': False, 'ADDITIONAL_RETALIATION': True, 'ATTACKS_NEAREST_CREATURE': False, 'LIFE_DRAIN': False, 'NO_DISTANCE_PENALTY': False, 'NO_MELEE_PENALTY': False, 'NO_RETALIATION': False, 'THREE_HEADED_ATTACK': False, 'TWO_HEX_ATTACK_BREATH': False, 'attack': 8, 'canCast': False, 'canShoot': False, 'creatureHealth': 25, 'creatureLevel': 3, 'creatureName': 'griffin', 'creatureType': 4, 'defence': 8, 'doubleWide': True, 'healthLeft': 25, 'hex': 110, 'id': 5, 'isClone': False, 'isGhost': False, 'luck': 0, 'maxDamage': 6, 'minDamage': 3, 'morale': 1, 'ranged': {'attack': 8, 'defence': 8, 'maxDamage': 6, 'minDamage': 3}, 'shots': 0, 'side': 1, 'speed': 6, 'stackCount': 7, 'summoned': False, 'totalHealthLeft': 175}, {'ADDITIONAL_ATTACK': False, 'ADDITIONAL_RETALIATION': True, 'ATTACKS_NEAREST_CREATURE': False, 'LIFE_DRAIN': False, 'NO_DISTANCE_PENALTY': False, 'NO_MELEE_PENALTY': False, 'NO_RETALIATION': False, 'THREE_HEADED_ATTACK': False, 'TWO_HEX_ATTACK_BREATH': False, 'attack': 8, 'canCast': False, 'canShoot': False, 'creatureHealth': 25, 'creatureLevel': 3, 'creatureName': 'griffin', 'creatureType': 4, 'defence': 8, 'doubleWide': True, 'healthLeft': 25, 'hex': 162, 'id': 6, 'isClone': False, 'isGhost': False, 'luck': 0, 'maxDamage': 6, 'minDamage': 3, 'morale': 1, 'ranged': {'attack': 8, 'defence': 8, 'maxDamage': 6, 'minDamage': 3}, 'shots': 0, 'side': 1, 'speed': 6, 'stackCount': 7, 'summoned': False, 'totalHealthLeft': 175}, {'ADDITIONAL_ATTACK': False, 'ADDITIONAL_RETALIATION': False, 'ATTACKS_NEAREST_CREATURE': False, 'LIFE_DRAIN': False, 'NO_DISTANCE_PENALTY': False, 'NO_MELEE_PENALTY': True, 'NO_RETALIATION': False, 'THREE_HEADED_ATTACK': False, 'TWO_HEX_ATTACK_BREATH': False, 'attack': 29, 'canCast': False, 'canShoot': True, 'creatureHealth': 300, 'creatureLevel': 7, 'creatureName': 'titan', 'creatureType': 41, 'defence': 26, 'doubleWide': False, 'healthLeft': 300, 'hex': 35, 'id': 0, 'isClone': False, 'isGhost': False, 'luck': 0, 'maxDamage': 60, 'minDamage': 40, 'morale': 3, 'ranged': {'attack': 29, 'defence': 26, 'maxDamage': 60, 'minDamage': 40}, 'shots': 24, 'side': 0, 'speed': 11, 'stackCount': 1, 'summoned': False, 'totalHealthLeft': 300}, {'ADDITIONAL_ATTACK': False, 'ADDITIONAL_RETALIATION': False, 'ATTACKS_NEAREST_CREATURE': False, 'LIFE_DRAIN': False, 'NO_DISTANCE_PENALTY': False, 'NO_MELEE_PENALTY': False, 'NO_RETALIATION': False, 'THREE_HEADED_ATTACK': False, 'TWO_HEX_ATTACK_BREATH': False, 'attack': 12, 'canCast': False, 'canShoot': False, 'creatureHealth': 16, 'creatureLevel': 2, 'creatureName': 'obsidianGargoyle', 'creatureType': 31, 'defence': 9, 'doubleWide': False, 'healthLeft': 16, 'hex': 1, 'id': 1, 'isClone': False, 'isGhost': False, 'luck': 0, 'maxDamage': 3, 'minDamage': 2, 'morale': 3, 'ranged': {'attack': 12, 'defence': 9, 'maxDamage': 3, 'minDamage': 2}, 'shots': 0, 'side': 0, 'speed': 9, 'stackCount': 30, 'summoned': False, 'totalHealthLeft': 480}, {'ADDITIONAL_ATTACK': False, 'ADDITIONAL_RETALIATION': False, 'ATTACKS_NEAREST_CREATURE': False, 'LIFE_DRAIN': False, 'NO_DISTANCE_PENALTY': False, 'NO_MELEE_PENALTY': False, 'NO_RETALIATION': False, 'THREE_HEADED_ATTACK': False, 'TWO_HEX_ATTACK_BREATH': False, 'attack': 14, 'canCast': False, 'canShoot': False, 'creatureHealth': 35, 'creatureLevel': 3, 'creatureName': 'stoneGolem', 'creatureType': 33, 'defence': 12, 'doubleWide': False, 'healthLeft': 35, 'hex': 52, 'id': 2, 'isClone': False, 'isGhost': False, 'luck': 0, 'maxDamage': 5, 'minDamage': 4, 'morale': 0, 'ranged': {'attack': 14, 'defence': 12, 'maxDamage': 5, 'minDamage': 4}, 'shots': 0, 'side': 0, 'speed': 5, 'stackCount': 4, 'summoned': False, 'totalHealthLeft': 140}], 'terrain': 0}\n",
    "# request2 = {'actions': {'canDefend': True, 'canWait': True, 'possibleAttacks': [{'affectedUnitIds': [4], 'damageDealt': 127, 'damageReceived': {'collateral': 0, 'retalitation': 0}, 'defenderId': 4, 'moveToHex': -1, 'shootersBlockedDamage': 0, 'shooting': True}, {'affectedUnitIds': [5], 'damageDealt': 127, 'damageReceived': {'collateral': 0, 'retalitation': 0}, 'defenderId': 5, 'moveToHex': -1, 'shootersBlockedDamage': 0, 'shooting': True}, {'affectedUnitIds': [3], 'damageDealt': 97, 'damageReceived': {'collateral': 0, 'retalitation': 0}, 'defenderId': 3, 'moveToHex': -1, 'shootersBlockedDamage': 0, 'shooting': True}, {'affectedUnitIds': [6], 'damageDealt': 63, 'damageReceived': {'collateral': 0, 'retalitation': 0}, 'defenderId': 6, 'moveToHex': -1, 'shootersBlockedDamage': 0, 'shooting': True}], 'possibleMoves': [2, 3, 4, 5, 6, 7, 10, 11, 18, 19, 20, 21, 22, 23, 24, 25, 26, 27, 28, 29, 36, 37, 38, 39, 40, 41, 42, 45, 53, 54, 55, 58, 59, 60, 61, 62, 63, 69, 70, 71, 74, 75, 76, 77, 78, 86, 87, 88, 89, 90, 91, 92, 93, 94, 95, 96, 103, 104, 105, 106, 107, 108, 109, 112, 120, 121, 124, 125, 126, 127, 128, 129, 137, 138, 139, 140, 141, 142, 143, 154, 155, 156, 157, 158, 159, 160, 161, 171, 172, 173, 174, 175, 176, 177, 178]}, 'activeStackId': 0, 'battlefield': 3, 'currentSide': 0, 'order': [[{'canMove': True, 'canRetalitate': True, 'canWait': False, 'defended': False, 'id': 0, 'initiative': 11, 'queuePhase': 1, 'speed': 11}, {'canMove': True, 'canRetalitate': True, 'canWait': False, 'defended': False, 'id': 1, 'initiative': 9, 'queuePhase': 1, 'speed': 9}, {'canMove': True, 'canRetalitate': True, 'canWait': False, 'defended': False, 'id': 3, 'initiative': 6, 'queuePhase': 1, 'speed': 6}, {'canMove': True, 'canRetalitate': True, 'canWait': False, 'defended': False, 'id': 4, 'initiative': 6, 'queuePhase': 1, 'speed': 6}, {'canMove': True, 'canRetalitate': True, 'canWait': False, 'defended': False, 'id': 5, 'initiative': 6, 'queuePhase': 1, 'speed': 6}, {'canMove': True, 'canRetalitate': True, 'canWait': False, 'defended': False, 'id': 6, 'initiative': 6, 'queuePhase': 1, 'speed': 6}, {'canMove': True, 'canRetalitate': True, 'canWait': False, 'defended': False, 'id': 2, 'initiative': 5, 'queuePhase': 1, 'speed': 5}], [{'canMove': True, 'canRetalitate': True, 'canWait': False, 'defended': False, 'id': 0, 'initiative': 11, 'queuePhase': 1, 'speed': 11}, {'canMove': True, 'canRetalitate': True, 'canWait': False, 'defended': False, 'id': 1, 'initiative': 9, 'queuePhase': 1, 'speed': 9}, {'canMove': True, 'canRetalitate': True, 'canWait': False, 'defended': False, 'id': 3, 'initiative': 6, 'queuePhase': 1, 'speed': 6}, {'canMove': True, 'canRetalitate': True, 'canWait': False, 'defended': False, 'id': 4, 'initiative': 6, 'queuePhase': 1, 'speed': 6}, {'canMove': True, 'canRetalitate': True, 'canWait': False, 'defended': False, 'id': 5, 'initiative': 6, 'queuePhase': 1, 'speed': 6}, {'canMove': True, 'canRetalitate': True, 'canWait': False, 'defended': False, 'id': 6, 'initiative': 6, 'queuePhase': 1, 'speed': 6}, {'canMove': True, 'canRetalitate': True, 'canWait': False, 'defended': False, 'id': 2, 'initiative': 5, 'queuePhase': 1, 'speed': 5}], [{'canMove': True, 'canRetalitate': True, 'canWait': False, 'defended': False, 'id': 0, 'initiative': 11, 'queuePhase': 1, 'speed': 11}, {'canMove': True, 'canRetalitate': True, 'canWait': False, 'defended': False, 'id': 1, 'initiative': 9, 'queuePhase': 1, 'speed': 9}, {'canMove': True, 'canRetalitate': True, 'canWait': False, 'defended': False, 'id': 3, 'initiative': 6, 'queuePhase': 1, 'speed': 6}, {'canMove': True, 'canRetalitate': True, 'canWait': False, 'defended': False, 'id': 4, 'initiative': 6, 'queuePhase': 1, 'speed': 6}, {'canMove': True, 'canRetalitate': True, 'canWait': False, 'defended': False, 'id': 5, 'initiative': 6, 'queuePhase': 1, 'speed': 6}, {'canMove': True, 'canRetalitate': True, 'canWait': False, 'defended': False, 'id': 6, 'initiative': 6, 'queuePhase': 1, 'speed': 6}, {'canMove': True, 'canRetalitate': True, 'canWait': False, 'defended': False, 'id': 2, 'initiative': 5, 'queuePhase': 1, 'speed': 5}]], 'stacks': [{'ADDITIONAL_ATTACK': False, 'ADDITIONAL_RETALIATION': True, 'ATTACKS_NEAREST_CREATURE': False, 'LIFE_DRAIN': False, 'NO_DISTANCE_PENALTY': False, 'NO_MELEE_PENALTY': False, 'NO_RETALIATION': False, 'THREE_HEADED_ATTACK': False, 'TWO_HEX_ATTACK_BREATH': False, 'attack': 8, 'canCast': False, 'canShoot': False, 'creatureHealth': 25, 'creatureLevel': 3, 'creatureName': 'griffin', 'creatureType': 4, 'defence': 8, 'doubleWide': True, 'healthLeft': 22, 'hex': 8, 'id': 3, 'isClone': False, 'isGhost': False, 'luck': 0, 'maxDamage': 6, 'minDamage': 3, 'morale': 1, 'ranged': {'attack': 8, 'defence': 8, 'maxDamage': 6, 'minDamage': 3}, 'shots': 0, 'side': 1, 'speed': 6, 'stackCount': 4, 'summoned': False, 'totalHealthLeft': 97}, {'ADDITIONAL_ATTACK': False, 'ADDITIONAL_RETALIATION': True, 'ATTACKS_NEAREST_CREATURE': False, 'LIFE_DRAIN': False, 'NO_DISTANCE_PENALTY': False, 'NO_MELEE_PENALTY': False, 'NO_RETALIATION': False, 'THREE_HEADED_ATTACK': False, 'TWO_HEX_ATTACK_BREATH': False, 'attack': 8, 'canCast': False, 'canShoot': False, 'creatureHealth': 25, 'creatureLevel': 3, 'creatureName': 'griffin', 'creatureType': 4, 'defence': 8, 'doubleWide': True, 'healthLeft': 15, 'hex': 43, 'id': 4, 'isClone': False, 'isGhost': False, 'luck': 0, 'maxDamage': 6, 'minDamage': 3, 'morale': 1, 'ranged': {'attack': 8, 'defence': 8, 'maxDamage': 6, 'minDamage': 3}, 'shots': 0, 'side': 1, 'speed': 6, 'stackCount': 7, 'summoned': False, 'totalHealthLeft': 165}, {'ADDITIONAL_ATTACK': False, 'ADDITIONAL_RETALIATION': True, 'ATTACKS_NEAREST_CREATURE': False, 'LIFE_DRAIN': False, 'NO_DISTANCE_PENALTY': False, 'NO_MELEE_PENALTY': False, 'NO_RETALIATION': False, 'THREE_HEADED_ATTACK': False, 'TWO_HEX_ATTACK_BREATH': False, 'attack': 8, 'canCast': False, 'canShoot': False, 'creatureHealth': 25, 'creatureLevel': 3, 'creatureName': 'griffin', 'creatureType': 4, 'defence': 8, 'doubleWide': True, 'healthLeft': 25, 'hex': 110, 'id': 5, 'isClone': False, 'isGhost': False, 'luck': 0, 'maxDamage': 6, 'minDamage': 3, 'morale': 1, 'ranged': {'attack': 8, 'defence': 8, 'maxDamage': 6, 'minDamage': 3}, 'shots': 0, 'side': 1, 'speed': 6, 'stackCount': 7, 'summoned': False, 'totalHealthLeft': 175}, {'ADDITIONAL_ATTACK': False, 'ADDITIONAL_RETALIATION': True, 'ATTACKS_NEAREST_CREATURE': False, 'LIFE_DRAIN': False, 'NO_DISTANCE_PENALTY': False, 'NO_MELEE_PENALTY': False, 'NO_RETALIATION': False, 'THREE_HEADED_ATTACK': False, 'TWO_HEX_ATTACK_BREATH': False, 'attack': 8, 'canCast': False, 'canShoot': False, 'creatureHealth': 25, 'creatureLevel': 3, 'creatureName': 'griffin', 'creatureType': 4, 'defence': 8, 'doubleWide': True, 'healthLeft': 25, 'hex': 162, 'id': 6, 'isClone': False, 'isGhost': False, 'luck': 0, 'maxDamage': 6, 'minDamage': 3, 'morale': 1, 'ranged': {'attack': 8, 'defence': 8, 'maxDamage': 6, 'minDamage': 3}, 'shots': 0, 'side': 1, 'speed': 6, 'stackCount': 7, 'summoned': False, 'totalHealthLeft': 175}, {'ADDITIONAL_ATTACK': False, 'ADDITIONAL_RETALIATION': False, 'ATTACKS_NEAREST_CREATURE': False, 'LIFE_DRAIN': False, 'NO_DISTANCE_PENALTY': False, 'NO_MELEE_PENALTY': True, 'NO_RETALIATION': False, 'THREE_HEADED_ATTACK': False, 'TWO_HEX_ATTACK_BREATH': False, 'attack': 29, 'canCast': False, 'canShoot': True, 'creatureHealth': 300, 'creatureLevel': 7, 'creatureName': 'titan', 'creatureType': 41, 'defence': 26, 'doubleWide': False, 'healthLeft': 300, 'hex': 35, 'id': 0, 'isClone': False, 'isGhost': False, 'luck': 0, 'maxDamage': 60, 'minDamage': 40, 'morale': 3, 'ranged': {'attack': 29, 'defence': 26, 'maxDamage': 60, 'minDamage': 40}, 'shots': 24, 'side': 0, 'speed': 11, 'stackCount': 1, 'summoned': False, 'totalHealthLeft': 300}, {'ADDITIONAL_ATTACK': False, 'ADDITIONAL_RETALIATION': False, 'ATTACKS_NEAREST_CREATURE': False, 'LIFE_DRAIN': False, 'NO_DISTANCE_PENALTY': False, 'NO_MELEE_PENALTY': False, 'NO_RETALIATION': False, 'THREE_HEADED_ATTACK': False, 'TWO_HEX_ATTACK_BREATH': False, 'attack': 12, 'canCast': False, 'canShoot': False, 'creatureHealth': 16, 'creatureLevel': 2, 'creatureName': 'obsidianGargoyle', 'creatureType': 31, 'defence': 9, 'doubleWide': False, 'healthLeft': 16, 'hex': 1, 'id': 1, 'isClone': False, 'isGhost': False, 'luck': 0, 'maxDamage': 3, 'minDamage': 2, 'morale': 3, 'ranged': {'attack': 12, 'defence': 9, 'maxDamage': 3, 'minDamage': 2}, 'shots': 0, 'side': 0, 'speed': 9, 'stackCount': 30, 'summoned': False, 'totalHealthLeft': 480}, {'ADDITIONAL_ATTACK': False, 'ADDITIONAL_RETALIATION': False, 'ATTACKS_NEAREST_CREATURE': False, 'LIFE_DRAIN': False, 'NO_DISTANCE_PENALTY': False, 'NO_MELEE_PENALTY': False, 'NO_RETALIATION': False, 'THREE_HEADED_ATTACK': False, 'TWO_HEX_ATTACK_BREATH': False, 'attack': 14, 'canCast': False, 'canShoot': False, 'creatureHealth': 35, 'creatureLevel': 3, 'creatureName': 'stoneGolem', 'creatureType': 33, 'defence': 12, 'doubleWide': False, 'healthLeft': 35, 'hex': 52, 'id': 2, 'isClone': False, 'isGhost': False, 'luck': 0, 'maxDamage': 5, 'minDamage': 4, 'morale': 0, 'ranged': {'attack': 14, 'defence': 12, 'maxDamage': 5, 'minDamage': 4}, 'shots': 0, 'side': 0, 'speed': 5, 'stackCount': 4, 'summoned': False, 'totalHealthLeft': 140}], 'terrain': 0}\n",
    "# request3 = {'actions': {'canDefend': True, 'canWait': True, 'possibleAttacks': [], 'possibleMoves': [52, 53, 54, 55, 69, 70, 71, 86, 87, 88, 89, 90, 103, 104, 105, 106, 107, 120, 121, 124, 125, 138, 139, 140, 141, 142, 154, 155, 156, 157, 158, 159, 171, 172, 173, 174, 175]}, 'activeStackId': 2, 'battlefield': 3, 'currentSide': 0, 'order': [[{'canMove': True, 'canRetalitate': True, 'canWait': False, 'defended': False, 'id': 2, 'initiative': 5, 'queuePhase': 1, 'speed': 5}], [{'canMove': True, 'canRetalitate': True, 'canWait': False, 'defended': False, 'id': 0, 'initiative': 11, 'queuePhase': 1, 'speed': 11}, {'canMove': True, 'canRetalitate': True, 'canWait': False, 'defended': False, 'id': 1, 'initiative': 9, 'queuePhase': 1, 'speed': 9}, {'canMove': True, 'canRetalitate': True, 'canWait': False, 'defended': False, 'id': 3, 'initiative': 6, 'queuePhase': 1, 'speed': 6}, {'canMove': True, 'canRetalitate': True, 'canWait': False, 'defended': False, 'id': 4, 'initiative': 6, 'queuePhase': 1, 'speed': 6}, {'canMove': True, 'canRetalitate': True, 'canWait': False, 'defended': False, 'id': 5, 'initiative': 6, 'queuePhase': 1, 'speed': 6}, {'canMove': True, 'canRetalitate': True, 'canWait': False, 'defended': False, 'id': 6, 'initiative': 6, 'queuePhase': 1, 'speed': 6}, {'canMove': True, 'canRetalitate': True, 'canWait': False, 'defended': False, 'id': 2, 'initiative': 5, 'queuePhase': 1, 'speed': 5}], [{'canMove': True, 'canRetalitate': True, 'canWait': False, 'defended': False, 'id': 0, 'initiative': 11, 'queuePhase': 1, 'speed': 11}, {'canMove': True, 'canRetalitate': True, 'canWait': False, 'defended': False, 'id': 1, 'initiative': 9, 'queuePhase': 1, 'speed': 9}, {'canMove': True, 'canRetalitate': True, 'canWait': False, 'defended': False, 'id': 3, 'initiative': 6, 'queuePhase': 1, 'speed': 6}, {'canMove': True, 'canRetalitate': True, 'canWait': False, 'defended': False, 'id': 4, 'initiative': 6, 'queuePhase': 1, 'speed': 6}, {'canMove': True, 'canRetalitate': True, 'canWait': False, 'defended': False, 'id': 5, 'initiative': 6, 'queuePhase': 1, 'speed': 6}, {'canMove': True, 'canRetalitate': True, 'canWait': False, 'defended': False, 'id': 6, 'initiative': 6, 'queuePhase': 1, 'speed': 6}, {'canMove': True, 'canRetalitate': True, 'canWait': False, 'defended': False, 'id': 2, 'initiative': 5, 'queuePhase': 1, 'speed': 5}]], 'stacks': [{'ADDITIONAL_ATTACK': False, 'ADDITIONAL_RETALIATION': True, 'ATTACKS_NEAREST_CREATURE': False, 'LIFE_DRAIN': False, 'NO_DISTANCE_PENALTY': False, 'NO_MELEE_PENALTY': False, 'NO_RETALIATION': False, 'THREE_HEADED_ATTACK': False, 'TWO_HEX_ATTACK_BREATH': False, 'attack': 8, 'canCast': False, 'canShoot': False, 'creatureHealth': 25, 'creatureLevel': 3, 'creatureName': 'griffin', 'creatureType': 4, 'defence': 8, 'doubleWide': True, 'healthLeft': 22, 'hex': 8, 'id': 3, 'isClone': False, 'isGhost': False, 'luck': 0, 'maxDamage': 6, 'minDamage': 3, 'morale': 1, 'ranged': {'attack': 8, 'defence': 8, 'maxDamage': 6, 'minDamage': 3}, 'shots': 0, 'side': 1, 'speed': 6, 'stackCount': 4, 'summoned': False, 'totalHealthLeft': 97}, {'ADDITIONAL_ATTACK': False, 'ADDITIONAL_RETALIATION': True, 'ATTACKS_NEAREST_CREATURE': False, 'LIFE_DRAIN': False, 'NO_DISTANCE_PENALTY': False, 'NO_MELEE_PENALTY': False, 'NO_RETALIATION': False, 'THREE_HEADED_ATTACK': False, 'TWO_HEX_ATTACK_BREATH': False, 'attack': 8, 'canCast': False, 'canShoot': False, 'creatureHealth': 25, 'creatureLevel': 3, 'creatureName': 'griffin', 'creatureType': 4, 'defence': 8, 'doubleWide': True, 'healthLeft': 25, 'hex': 43, 'id': 4, 'isClone': False, 'isGhost': False, 'luck': 0, 'maxDamage': 6, 'minDamage': 3, 'morale': 1, 'ranged': {'attack': 8, 'defence': 8, 'maxDamage': 6, 'minDamage': 3}, 'shots': 0, 'side': 1, 'speed': 6, 'stackCount': 8, 'summoned': False, 'totalHealthLeft': 200}, {'ADDITIONAL_ATTACK': False, 'ADDITIONAL_RETALIATION': True, 'ATTACKS_NEAREST_CREATURE': False, 'LIFE_DRAIN': False, 'NO_DISTANCE_PENALTY': False, 'NO_MELEE_PENALTY': False, 'NO_RETALIATION': False, 'THREE_HEADED_ATTACK': False, 'TWO_HEX_ATTACK_BREATH': False, 'attack': 8, 'canCast': False, 'canShoot': False, 'creatureHealth': 25, 'creatureLevel': 3, 'creatureName': 'griffin', 'creatureType': 4, 'defence': 8, 'doubleWide': True, 'healthLeft': 25, 'hex': 110, 'id': 5, 'isClone': False, 'isGhost': False, 'luck': 0, 'maxDamage': 6, 'minDamage': 3, 'morale': 1, 'ranged': {'attack': 8, 'defence': 8, 'maxDamage': 6, 'minDamage': 3}, 'shots': 0, 'side': 1, 'speed': 6, 'stackCount': 7, 'summoned': False, 'totalHealthLeft': 175}, {'ADDITIONAL_ATTACK': False, 'ADDITIONAL_RETALIATION': True, 'ATTACKS_NEAREST_CREATURE': False, 'LIFE_DRAIN': False, 'NO_DISTANCE_PENALTY': False, 'NO_MELEE_PENALTY': False, 'NO_RETALIATION': False, 'THREE_HEADED_ATTACK': False, 'TWO_HEX_ATTACK_BREATH': False, 'attack': 8, 'canCast': False, 'canShoot': False, 'creatureHealth': 25, 'creatureLevel': 3, 'creatureName': 'griffin', 'creatureType': 4, 'defence': 8, 'doubleWide': True, 'healthLeft': 25, 'hex': 162, 'id': 6, 'isClone': False, 'isGhost': False, 'luck': 0, 'maxDamage': 6, 'minDamage': 3, 'morale': 1, 'ranged': {'attack': 8, 'defence': 8, 'maxDamage': 6, 'minDamage': 3}, 'shots': 0, 'side': 1, 'speed': 6, 'stackCount': 7, 'summoned': False, 'totalHealthLeft': 175}, {'ADDITIONAL_ATTACK': False, 'ADDITIONAL_RETALIATION': False, 'ATTACKS_NEAREST_CREATURE': False, 'LIFE_DRAIN': False, 'NO_DISTANCE_PENALTY': False, 'NO_MELEE_PENALTY': True, 'NO_RETALIATION': False, 'THREE_HEADED_ATTACK': False, 'TWO_HEX_ATTACK_BREATH': False, 'attack': 29, 'canCast': False, 'canShoot': True, 'creatureHealth': 300, 'creatureLevel': 7, 'creatureName': 'titan', 'creatureType': 41, 'defence': 26, 'doubleWide': False, 'healthLeft': 300, 'hex': 35, 'id': 0, 'isClone': False, 'isGhost': False, 'luck': 0, 'maxDamage': 60, 'minDamage': 40, 'morale': 3, 'ranged': {'attack': 29, 'defence': 26, 'maxDamage': 60, 'minDamage': 40}, 'shots': 24, 'side': 0, 'speed': 11, 'stackCount': 1, 'summoned': False, 'totalHealthLeft': 300}, {'ADDITIONAL_ATTACK': False, 'ADDITIONAL_RETALIATION': False, 'ATTACKS_NEAREST_CREATURE': False, 'LIFE_DRAIN': False, 'NO_DISTANCE_PENALTY': False, 'NO_MELEE_PENALTY': False, 'NO_RETALIATION': False, 'THREE_HEADED_ATTACK': False, 'TWO_HEX_ATTACK_BREATH': False, 'attack': 12, 'canCast': False, 'canShoot': False, 'creatureHealth': 16, 'creatureLevel': 2, 'creatureName': 'obsidianGargoyle', 'creatureType': 31, 'defence': 9, 'doubleWide': False, 'healthLeft': 16, 'hex': 1, 'id': 1, 'isClone': False, 'isGhost': False, 'luck': 0, 'maxDamage': 3, 'minDamage': 2, 'morale': 3, 'ranged': {'attack': 12, 'defence': 9, 'maxDamage': 3, 'minDamage': 2}, 'shots': 0, 'side': 0, 'speed': 9, 'stackCount': 30, 'summoned': False, 'totalHealthLeft': 480}, {'ADDITIONAL_ATTACK': False, 'ADDITIONAL_RETALIATION': False, 'ATTACKS_NEAREST_CREATURE': False, 'LIFE_DRAIN': False, 'NO_DISTANCE_PENALTY': False, 'NO_MELEE_PENALTY': False, 'NO_RETALIATION': False, 'THREE_HEADED_ATTACK': False, 'TWO_HEX_ATTACK_BREATH': False, 'attack': 14, 'canCast': False, 'canShoot': False, 'creatureHealth': 35, 'creatureLevel': 3, 'creatureName': 'stoneGolem', 'creatureType': 33, 'defence': 12, 'doubleWide': False, 'healthLeft': 35, 'hex': 137, 'id': 2, 'isClone': False, 'isGhost': False, 'luck': 0, 'maxDamage': 5, 'minDamage': 4, 'morale': 0, 'ranged': {'attack': 14, 'defence': 12, 'maxDamage': 5, 'minDamage': 4}, 'shots': 0, 'side': 0, 'speed': 5, 'stackCount': 4, 'summoned': False, 'totalHealthLeft': 140}], 'terrain': 0}\n",
    "# request4 = {'actions': {'canDefend': True, 'canWait': True, 'possibleAttacks': [], 'possibleMoves': [1, 2, 3, 4, 5, 6, 7, 18, 19, 20, 21, 22, 23, 24, 25, 36, 37, 38, 39, 40, 41, 42, 52, 53, 54, 55, 58, 59, 60, 69, 70, 71, 74, 75, 76, 77, 87, 88, 89, 90, 91, 92, 93, 94, 95, 103, 104, 105, 106, 107, 108, 109, 110, 111, 120, 121, 124, 125, 126, 127, 128, 138, 139, 140, 141, 142, 143, 154, 155, 156, 157, 158, 159, 160, 161, 171, 172, 173, 174, 175, 176, 177]}, 'activeStackId': 1, 'battlefield': 3, 'currentSide': 0, 'order': [[{'canMove': True, 'canRetalitate': True, 'canWait': False, 'defended': False, 'id': 1, 'initiative': 9, 'queuePhase': 1, 'speed': 9}, {'canMove': True, 'canRetalitate': True, 'canWait': False, 'defended': False, 'id': 3, 'initiative': 6, 'queuePhase': 1, 'speed': 6}, {'canMove': True, 'canRetalitate': True, 'canWait': False, 'defended': False, 'id': 4, 'initiative': 6, 'queuePhase': 1, 'speed': 6}, {'canMove': True, 'canRetalitate': True, 'canWait': False, 'defended': False, 'id': 5, 'initiative': 6, 'queuePhase': 1, 'speed': 6}, {'canMove': True, 'canRetalitate': True, 'canWait': False, 'defended': False, 'id': 6, 'initiative': 6, 'queuePhase': 1, 'speed': 6}, {'canMove': True, 'canRetalitate': True, 'canWait': False, 'defended': False, 'id': 2, 'initiative': 5, 'queuePhase': 1, 'speed': 5}], [{'canMove': True, 'canRetalitate': True, 'canWait': False, 'defended': False, 'id': 0, 'initiative': 11, 'queuePhase': 1, 'speed': 11}, {'canMove': True, 'canRetalitate': True, 'canWait': False, 'defended': False, 'id': 1, 'initiative': 9, 'queuePhase': 1, 'speed': 9}, {'canMove': True, 'canRetalitate': True, 'canWait': False, 'defended': False, 'id': 3, 'initiative': 6, 'queuePhase': 1, 'speed': 6}, {'canMove': True, 'canRetalitate': True, 'canWait': False, 'defended': False, 'id': 4, 'initiative': 6, 'queuePhase': 1, 'speed': 6}, {'canMove': True, 'canRetalitate': True, 'canWait': False, 'defended': False, 'id': 5, 'initiative': 6, 'queuePhase': 1, 'speed': 6}, {'canMove': True, 'canRetalitate': True, 'canWait': False, 'defended': False, 'id': 6, 'initiative': 6, 'queuePhase': 1, 'speed': 6}, {'canMove': True, 'canRetalitate': True, 'canWait': False, 'defended': False, 'id': 2, 'initiative': 5, 'queuePhase': 1, 'speed': 5}], [{'canMove': True, 'canRetalitate': True, 'canWait': False, 'defended': False, 'id': 0, 'initiative': 11, 'queuePhase': 1, 'speed': 11}, {'canMove': True, 'canRetalitate': True, 'canWait': False, 'defended': False, 'id': 1, 'initiative': 9, 'queuePhase': 1, 'speed': 9}, {'canMove': True, 'canRetalitate': True, 'canWait': False, 'defended': False, 'id': 3, 'initiative': 6, 'queuePhase': 1, 'speed': 6}, {'canMove': True, 'canRetalitate': True, 'canWait': False, 'defended': False, 'id': 4, 'initiative': 6, 'queuePhase': 1, 'speed': 6}, {'canMove': True, 'canRetalitate': True, 'canWait': False, 'defended': False, 'id': 5, 'initiative': 6, 'queuePhase': 1, 'speed': 6}, {'canMove': True, 'canRetalitate': True, 'canWait': False, 'defended': False, 'id': 6, 'initiative': 6, 'queuePhase': 1, 'speed': 6}, {'canMove': True, 'canRetalitate': True, 'canWait': False, 'defended': False, 'id': 2, 'initiative': 5, 'queuePhase': 1, 'speed': 5}]], 'stacks': [{'ADDITIONAL_ATTACK': False, 'ADDITIONAL_RETALIATION': True, 'ATTACKS_NEAREST_CREATURE': False, 'LIFE_DRAIN': False, 'NO_DISTANCE_PENALTY': False, 'NO_MELEE_PENALTY': False, 'NO_RETALIATION': False, 'THREE_HEADED_ATTACK': False, 'TWO_HEX_ATTACK_BREATH': False, 'attack': 8, 'canCast': False, 'canShoot': False, 'creatureHealth': 25, 'creatureLevel': 3, 'creatureName': 'griffin', 'creatureType': 4, 'defence': 8, 'doubleWide': True, 'healthLeft': 22, 'hex': 14, 'id': 3, 'isClone': False, 'isGhost': False, 'luck': 0, 'maxDamage': 6, 'minDamage': 3, 'morale': 1, 'ranged': {'attack': 8, 'defence': 8, 'maxDamage': 6, 'minDamage': 3}, 'shots': 0, 'side': 1, 'speed': 6, 'stackCount': 4, 'summoned': False, 'totalHealthLeft': 97}, {'ADDITIONAL_ATTACK': False, 'ADDITIONAL_RETALIATION': True, 'ATTACKS_NEAREST_CREATURE': False, 'LIFE_DRAIN': False, 'NO_DISTANCE_PENALTY': False, 'NO_MELEE_PENALTY': False, 'NO_RETALIATION': False, 'THREE_HEADED_ATTACK': False, 'TWO_HEX_ATTACK_BREATH': False, 'attack': 8, 'canCast': False, 'canShoot': False, 'creatureHealth': 25, 'creatureLevel': 3, 'creatureName': 'griffin', 'creatureType': 4, 'defence': 8, 'doubleWide': True, 'healthLeft': 25, 'hex': 82, 'id': 4, 'isClone': False, 'isGhost': False, 'luck': 0, 'maxDamage': 6, 'minDamage': 3, 'morale': 1, 'ranged': {'attack': 8, 'defence': 8, 'maxDamage': 6, 'minDamage': 3}, 'shots': 0, 'side': 1, 'speed': 6, 'stackCount': 8, 'summoned': False, 'totalHealthLeft': 200}, {'ADDITIONAL_ATTACK': False, 'ADDITIONAL_RETALIATION': True, 'ATTACKS_NEAREST_CREATURE': False, 'LIFE_DRAIN': False, 'NO_DISTANCE_PENALTY': False, 'NO_MELEE_PENALTY': False, 'NO_RETALIATION': False, 'THREE_HEADED_ATTACK': False, 'TWO_HEX_ATTACK_BREATH': False, 'attack': 8, 'canCast': False, 'canShoot': False, 'creatureHealth': 25, 'creatureLevel': 3, 'creatureName': 'griffin', 'creatureType': 4, 'defence': 8, 'doubleWide': True, 'healthLeft': 25, 'hex': 116, 'id': 5, 'isClone': False, 'isGhost': False, 'luck': 0, 'maxDamage': 6, 'minDamage': 3, 'morale': 1, 'ranged': {'attack': 8, 'defence': 8, 'maxDamage': 6, 'minDamage': 3}, 'shots': 0, 'side': 1, 'speed': 6, 'stackCount': 7, 'summoned': False, 'totalHealthLeft': 175}, {'ADDITIONAL_ATTACK': False, 'ADDITIONAL_RETALIATION': True, 'ATTACKS_NEAREST_CREATURE': False, 'LIFE_DRAIN': False, 'NO_DISTANCE_PENALTY': False, 'NO_MELEE_PENALTY': False, 'NO_RETALIATION': False, 'THREE_HEADED_ATTACK': False, 'TWO_HEX_ATTACK_BREATH': False, 'attack': 8, 'canCast': False, 'canShoot': False, 'creatureHealth': 25, 'creatureLevel': 3, 'creatureName': 'griffin', 'creatureType': 4, 'defence': 8, 'doubleWide': True, 'healthLeft': 25, 'hex': 184, 'id': 6, 'isClone': False, 'isGhost': False, 'luck': 0, 'maxDamage': 6, 'minDamage': 3, 'morale': 1, 'ranged': {'attack': 8, 'defence': 8, 'maxDamage': 6, 'minDamage': 3}, 'shots': 0, 'side': 1, 'speed': 6, 'stackCount': 7, 'summoned': False, 'totalHealthLeft': 175}, {'ADDITIONAL_ATTACK': False, 'ADDITIONAL_RETALIATION': False, 'ATTACKS_NEAREST_CREATURE': False, 'LIFE_DRAIN': False, 'NO_DISTANCE_PENALTY': False, 'NO_MELEE_PENALTY': True, 'NO_RETALIATION': False, 'THREE_HEADED_ATTACK': False, 'TWO_HEX_ATTACK_BREATH': False, 'attack': 29, 'canCast': False, 'canShoot': True, 'creatureHealth': 300, 'creatureLevel': 7, 'creatureName': 'titan', 'creatureType': 41, 'defence': 26, 'doubleWide': False, 'healthLeft': 300, 'hex': 35, 'id': 0, 'isClone': False, 'isGhost': False, 'luck': 0, 'maxDamage': 60, 'minDamage': 40, 'morale': 3, 'ranged': {'attack': 29, 'defence': 26, 'maxDamage': 60, 'minDamage': 40}, 'shots': 24, 'side': 0, 'speed': 11, 'stackCount': 1, 'summoned': False, 'totalHealthLeft': 300}, {'ADDITIONAL_ATTACK': False, 'ADDITIONAL_RETALIATION': False, 'ATTACKS_NEAREST_CREATURE': False, 'LIFE_DRAIN': False, 'NO_DISTANCE_PENALTY': False, 'NO_MELEE_PENALTY': False, 'NO_RETALIATION': False, 'THREE_HEADED_ATTACK': False, 'TWO_HEX_ATTACK_BREATH': False, 'attack': 12, 'canCast': False, 'canShoot': False, 'creatureHealth': 16, 'creatureLevel': 2, 'creatureName': 'obsidianGargoyle', 'creatureType': 31, 'defence': 9, 'doubleWide': False, 'healthLeft': 16, 'hex': 86, 'id': 1, 'isClone': False, 'isGhost': False, 'luck': 0, 'maxDamage': 3, 'minDamage': 2, 'morale': 3, 'ranged': {'attack': 12, 'defence': 9, 'maxDamage': 3, 'minDamage': 2}, 'shots': 0, 'side': 0, 'speed': 9, 'stackCount': 30, 'summoned': False, 'totalHealthLeft': 480}, {'ADDITIONAL_ATTACK': False, 'ADDITIONAL_RETALIATION': False, 'ATTACKS_NEAREST_CREATURE': False, 'LIFE_DRAIN': False, 'NO_DISTANCE_PENALTY': False, 'NO_MELEE_PENALTY': False, 'NO_RETALIATION': False, 'THREE_HEADED_ATTACK': False, 'TWO_HEX_ATTACK_BREATH': False, 'attack': 14, 'canCast': False, 'canShoot': False, 'creatureHealth': 35, 'creatureLevel': 3, 'creatureName': 'stoneGolem', 'creatureType': 33, 'defence': 12, 'doubleWide': False, 'healthLeft': 35, 'hex': 137, 'id': 2, 'isClone': False, 'isGhost': False, 'luck': 0, 'maxDamage': 5, 'minDamage': 4, 'morale': 0, 'ranged': {'attack': 14, 'defence': 12, 'maxDamage': 5, 'minDamage': 4}, 'shots': 0, 'side': 0, 'speed': 5, 'stackCount': 4, 'summoned': False, 'totalHealthLeft': 140}], 'terrain': 0}\n",
    "# request5 = {'actions': {'canDefend': True, 'canWait': True, 'possibleAttacks': [{'affectedUnitIds': [3], 'damageDealt': 63, 'damageReceived': {'collateral': 0, 'retalitation': 0}, 'defenderId': 3, 'moveToHex': -1, 'shootersBlockedDamage': 0, 'shooting': True}, {'affectedUnitIds': [4], 'damageDealt': 63, 'damageReceived': {'collateral': 0, 'retalitation': 0}, 'defenderId': 4, 'moveToHex': -1, 'shootersBlockedDamage': 0, 'shooting': True}, {'affectedUnitIds': [5], 'damageDealt': 63, 'damageReceived': {'collateral': 0, 'retalitation': 0}, 'defenderId': 5, 'moveToHex': -1, 'shootersBlockedDamage': 0, 'shooting': True}, {'affectedUnitIds': [6], 'damageDealt': 63, 'damageReceived': {'collateral': 0, 'retalitation': 0}, 'defenderId': 6, 'moveToHex': -1, 'shootersBlockedDamage': 0, 'shooting': True}], 'possibleMoves': [1, 2, 3, 4, 5, 6, 7, 8, 9, 10, 11, 18, 19, 20, 21, 22, 23, 24, 25, 26, 27, 28, 29, 36, 37, 38, 39, 40, 41, 42, 43, 44, 45, 46, 52, 53, 54, 55, 58, 59, 60, 61, 62, 63, 69, 70, 71, 74, 75, 76, 77, 78, 87, 88, 89, 90, 91, 92, 93, 94, 95, 96, 103, 104, 105, 106, 107, 108, 109, 110, 111, 112, 120, 121, 124, 125, 126, 127, 128, 129, 138, 139, 140, 141, 142, 143, 154, 155, 156, 157, 158, 159, 160, 161, 162, 171, 172, 173, 174, 175, 176, 177, 178]}, 'activeStackId': 0, 'battlefield': 3, 'currentSide': 0, 'order': [[{'canMove': True, 'canRetalitate': True, 'canWait': False, 'defended': False, 'id': 0, 'initiative': 11, 'queuePhase': 1, 'speed': 11}, {'canMove': True, 'canRetalitate': True, 'canWait': False, 'defended': False, 'id': 1, 'initiative': 9, 'queuePhase': 1, 'speed': 9}, {'canMove': True, 'canRetalitate': True, 'canWait': False, 'defended': False, 'id': 3, 'initiative': 6, 'queuePhase': 1, 'speed': 6}, {'canMove': True, 'canRetalitate': True, 'canWait': False, 'defended': False, 'id': 4, 'initiative': 6, 'queuePhase': 1, 'speed': 6}, {'canMove': True, 'canRetalitate': True, 'canWait': False, 'defended': False, 'id': 5, 'initiative': 6, 'queuePhase': 1, 'speed': 6}, {'canMove': True, 'canRetalitate': True, 'canWait': False, 'defended': False, 'id': 6, 'initiative': 6, 'queuePhase': 1, 'speed': 6}, {'canMove': True, 'canRetalitate': True, 'canWait': False, 'defended': False, 'id': 2, 'initiative': 5, 'queuePhase': 1, 'speed': 5}], [{'canMove': True, 'canRetalitate': True, 'canWait': False, 'defended': False, 'id': 0, 'initiative': 11, 'queuePhase': 1, 'speed': 11}, {'canMove': True, 'canRetalitate': True, 'canWait': False, 'defended': False, 'id': 1, 'initiative': 9, 'queuePhase': 1, 'speed': 9}, {'canMove': True, 'canRetalitate': True, 'canWait': False, 'defended': False, 'id': 3, 'initiative': 6, 'queuePhase': 1, 'speed': 6}, {'canMove': True, 'canRetalitate': True, 'canWait': False, 'defended': False, 'id': 4, 'initiative': 6, 'queuePhase': 1, 'speed': 6}, {'canMove': True, 'canRetalitate': True, 'canWait': False, 'defended': False, 'id': 5, 'initiative': 6, 'queuePhase': 1, 'speed': 6}, {'canMove': True, 'canRetalitate': True, 'canWait': False, 'defended': False, 'id': 6, 'initiative': 6, 'queuePhase': 1, 'speed': 6}, {'canMove': True, 'canRetalitate': True, 'canWait': False, 'defended': False, 'id': 2, 'initiative': 5, 'queuePhase': 1, 'speed': 5}], [{'canMove': True, 'canRetalitate': True, 'canWait': False, 'defended': False, 'id': 0, 'initiative': 11, 'queuePhase': 1, 'speed': 11}, {'canMove': True, 'canRetalitate': True, 'canWait': False, 'defended': False, 'id': 1, 'initiative': 9, 'queuePhase': 1, 'speed': 9}, {'canMove': True, 'canRetalitate': True, 'canWait': False, 'defended': False, 'id': 3, 'initiative': 6, 'queuePhase': 1, 'speed': 6}, {'canMove': True, 'canRetalitate': True, 'canWait': False, 'defended': False, 'id': 4, 'initiative': 6, 'queuePhase': 1, 'speed': 6}, {'canMove': True, 'canRetalitate': True, 'canWait': False, 'defended': False, 'id': 5, 'initiative': 6, 'queuePhase': 1, 'speed': 6}, {'canMove': True, 'canRetalitate': True, 'canWait': False, 'defended': False, 'id': 6, 'initiative': 6, 'queuePhase': 1, 'speed': 6}, {'canMove': True, 'canRetalitate': True, 'canWait': False, 'defended': False, 'id': 2, 'initiative': 5, 'queuePhase': 1, 'speed': 5}]], 'stacks': [{'ADDITIONAL_ATTACK': False, 'ADDITIONAL_RETALIATION': True, 'ATTACKS_NEAREST_CREATURE': False, 'LIFE_DRAIN': False, 'NO_DISTANCE_PENALTY': False, 'NO_MELEE_PENALTY': False, 'NO_RETALIATION': False, 'THREE_HEADED_ATTACK': False, 'TWO_HEX_ATTACK_BREATH': False, 'attack': 8, 'canCast': False, 'canShoot': False, 'creatureHealth': 25, 'creatureLevel': 3, 'creatureName': 'griffin', 'creatureType': 4, 'defence': 8, 'doubleWide': True, 'healthLeft': 15, 'hex': 14, 'id': 3, 'isClone': False, 'isGhost': False, 'luck': 0, 'maxDamage': 6, 'minDamage': 3, 'morale': 1, 'ranged': {'attack': 8, 'defence': 8, 'maxDamage': 6, 'minDamage': 3}, 'shots': 0, 'side': 1, 'speed': 6, 'stackCount': 7, 'summoned': False, 'totalHealthLeft': 165}, {'ADDITIONAL_ATTACK': False, 'ADDITIONAL_RETALIATION': True, 'ATTACKS_NEAREST_CREATURE': False, 'LIFE_DRAIN': False, 'NO_DISTANCE_PENALTY': False, 'NO_MELEE_PENALTY': False, 'NO_RETALIATION': False, 'THREE_HEADED_ATTACK': False, 'TWO_HEX_ATTACK_BREATH': False, 'attack': 8, 'canCast': False, 'canShoot': False, 'creatureHealth': 25, 'creatureLevel': 3, 'creatureName': 'griffin', 'creatureType': 4, 'defence': 8, 'doubleWide': True, 'healthLeft': 25, 'hex': 82, 'id': 4, 'isClone': False, 'isGhost': False, 'luck': 0, 'maxDamage': 6, 'minDamage': 3, 'morale': 1, 'ranged': {'attack': 8, 'defence': 8, 'maxDamage': 6, 'minDamage': 3}, 'shots': 0, 'side': 1, 'speed': 6, 'stackCount': 8, 'summoned': False, 'totalHealthLeft': 200}, {'ADDITIONAL_ATTACK': False, 'ADDITIONAL_RETALIATION': True, 'ATTACKS_NEAREST_CREATURE': False, 'LIFE_DRAIN': False, 'NO_DISTANCE_PENALTY': False, 'NO_MELEE_PENALTY': False, 'NO_RETALIATION': False, 'THREE_HEADED_ATTACK': False, 'TWO_HEX_ATTACK_BREATH': False, 'attack': 8, 'canCast': False, 'canShoot': False, 'creatureHealth': 25, 'creatureLevel': 3, 'creatureName': 'griffin', 'creatureType': 4, 'defence': 8, 'doubleWide': True, 'healthLeft': 25, 'hex': 116, 'id': 5, 'isClone': False, 'isGhost': False, 'luck': 0, 'maxDamage': 6, 'minDamage': 3, 'morale': 1, 'ranged': {'attack': 8, 'defence': 8, 'maxDamage': 6, 'minDamage': 3}, 'shots': 0, 'side': 1, 'speed': 6, 'stackCount': 7, 'summoned': False, 'totalHealthLeft': 175}, {'ADDITIONAL_ATTACK': False, 'ADDITIONAL_RETALIATION': True, 'ATTACKS_NEAREST_CREATURE': False, 'LIFE_DRAIN': False, 'NO_DISTANCE_PENALTY': False, 'NO_MELEE_PENALTY': False, 'NO_RETALIATION': False, 'THREE_HEADED_ATTACK': False, 'TWO_HEX_ATTACK_BREATH': False, 'attack': 8, 'canCast': False, 'canShoot': False, 'creatureHealth': 25, 'creatureLevel': 3, 'creatureName': 'griffin', 'creatureType': 4, 'defence': 8, 'doubleWide': True, 'healthLeft': 25, 'hex': 184, 'id': 6, 'isClone': False, 'isGhost': False, 'luck': 0, 'maxDamage': 6, 'minDamage': 3, 'morale': 1, 'ranged': {'attack': 8, 'defence': 8, 'maxDamage': 6, 'minDamage': 3}, 'shots': 0, 'side': 1, 'speed': 6, 'stackCount': 7, 'summoned': False, 'totalHealthLeft': 175}, {'ADDITIONAL_ATTACK': False, 'ADDITIONAL_RETALIATION': False, 'ATTACKS_NEAREST_CREATURE': False, 'LIFE_DRAIN': False, 'NO_DISTANCE_PENALTY': False, 'NO_MELEE_PENALTY': True, 'NO_RETALIATION': False, 'THREE_HEADED_ATTACK': False, 'TWO_HEX_ATTACK_BREATH': False, 'attack': 29, 'canCast': False, 'canShoot': True, 'creatureHealth': 300, 'creatureLevel': 7, 'creatureName': 'titan', 'creatureType': 41, 'defence': 26, 'doubleWide': False, 'healthLeft': 300, 'hex': 35, 'id': 0, 'isClone': False, 'isGhost': False, 'luck': 0, 'maxDamage': 60, 'minDamage': 40, 'morale': 3, 'ranged': {'attack': 29, 'defence': 26, 'maxDamage': 60, 'minDamage': 40}, 'shots': 24, 'side': 0, 'speed': 11, 'stackCount': 1, 'summoned': False, 'totalHealthLeft': 300}, {'ADDITIONAL_ATTACK': False, 'ADDITIONAL_RETALIATION': False, 'ATTACKS_NEAREST_CREATURE': False, 'LIFE_DRAIN': False, 'NO_DISTANCE_PENALTY': False, 'NO_MELEE_PENALTY': False, 'NO_RETALIATION': False, 'THREE_HEADED_ATTACK': False, 'TWO_HEX_ATTACK_BREATH': False, 'attack': 12, 'canCast': False, 'canShoot': False, 'creatureHealth': 16, 'creatureLevel': 2, 'creatureName': 'obsidianGargoyle', 'creatureType': 31, 'defence': 9, 'doubleWide': False, 'healthLeft': 16, 'hex': 86, 'id': 1, 'isClone': False, 'isGhost': False, 'luck': 0, 'maxDamage': 3, 'minDamage': 2, 'morale': 3, 'ranged': {'attack': 12, 'defence': 9, 'maxDamage': 3, 'minDamage': 2}, 'shots': 0, 'side': 0, 'speed': 9, 'stackCount': 30, 'summoned': False, 'totalHealthLeft': 480}, {'ADDITIONAL_ATTACK': False, 'ADDITIONAL_RETALIATION': False, 'ATTACKS_NEAREST_CREATURE': False, 'LIFE_DRAIN': False, 'NO_DISTANCE_PENALTY': False, 'NO_MELEE_PENALTY': False, 'NO_RETALIATION': False, 'THREE_HEADED_ATTACK': False, 'TWO_HEX_ATTACK_BREATH': False, 'attack': 14, 'canCast': False, 'canShoot': False, 'creatureHealth': 35, 'creatureLevel': 3, 'creatureName': 'stoneGolem', 'creatureType': 33, 'defence': 12, 'doubleWide': False, 'healthLeft': 35, 'hex': 137, 'id': 2, 'isClone': False, 'isGhost': False, 'luck': 0, 'maxDamage': 5, 'minDamage': 4, 'morale': 0, 'ranged': {'attack': 14, 'defence': 12, 'maxDamage': 5, 'minDamage': 4}, 'shots': 0, 'side': 0, 'speed': 5, 'stackCount': 4, 'summoned': False, 'totalHealthLeft': 140}], 'terrain': 0}\n",
    "# moves = [\n",
    "#     {'type': 2, 'targetId': 3, 'moveToHex': 7},\n",
    "#     {'type': 1, 'targetId': 4, 'moveToHex': -1},\n",
    "#     {'type': 0, 'moveToHex': 52},\n",
    "#     {'type': 0, 'moveToHex': 1},\n",
    "#     {'type': 1, 'targetId': 3, 'moveToHex': -1}\n",
    "# ]"
   ]
  },
  {
   "cell_type": "code",
   "execution_count": 1,
   "id": "overhead-liver",
   "metadata": {},
   "outputs": [],
   "source": [
    "## вторая запись\n",
    "request1 = {'actions': {'canDefend': True, 'canWait': True, 'possibleAttacks': [{'affectedUnitIds': [2], 'damageDealt': 61, 'damageReceived': {'collateral': 0, 'retalitation': 0}, 'defenderId': 2, 'moveToHex': -1, 'shootersBlockedDamage': 0, 'shooting': True}, {'affectedUnitIds': [3], 'damageDealt': 61, 'damageReceived': {'collateral': 0, 'retalitation': 0}, 'defenderId': 3, 'moveToHex': -1, 'shootersBlockedDamage': 0, 'shooting': True}, {'affectedUnitIds': [4], 'damageDealt': 61, 'damageReceived': {'collateral': 0, 'retalitation': 0}, 'defenderId': 4, 'moveToHex': -1, 'shootersBlockedDamage': 0, 'shooting': True}, {'affectedUnitIds': [5], 'damageDealt': 61, 'damageReceived': {'collateral': 0, 'retalitation': 0}, 'defenderId': 5, 'moveToHex': -1, 'shootersBlockedDamage': 0, 'shooting': True}], 'possibleMoves': [1, 2, 3, 4, 5, 6, 7, 8, 9, 10, 11, 18, 19, 20, 21, 22, 23, 24, 25, 26, 27, 28, 29, 36, 37, 38, 39, 40, 41, 42, 43, 44, 45, 46, 52, 53, 54, 55, 58, 59, 60, 61, 62, 63, 69, 70, 71, 74, 75, 76, 77, 78, 86, 87, 88, 89, 90, 91, 92, 93, 94, 95, 96, 103, 104, 105, 106, 107, 108, 109, 110, 111, 112, 120, 121, 124, 125, 126, 127, 128, 129, 138, 139, 140, 141, 142, 143, 154, 155, 156, 157, 158, 159, 160, 161, 162, 171, 172, 173, 174, 175, 176, 177, 178]}, 'activeStackId': 0, 'battlefield': 5, 'currentSide': 0, 'order': [[{'canMove': True, 'canRetalitate': True, 'canWait': False, 'defended': False, 'id': 0, 'initiative': 11, 'queuePhase': 1, 'speed': 11}, {'canMove': True, 'canRetalitate': True, 'canWait': False, 'defended': False, 'id': 1, 'initiative': 9, 'queuePhase': 1, 'speed': 9}, {'canMove': True, 'canRetalitate': True, 'canWait': False, 'defended': False, 'id': 2, 'initiative': 6, 'queuePhase': 1, 'speed': 6}, {'canMove': True, 'canRetalitate': True, 'canWait': False, 'defended': False, 'id': 3, 'initiative': 6, 'queuePhase': 1, 'speed': 6}, {'canMove': True, 'canRetalitate': True, 'canWait': False, 'defended': False, 'id': 4, 'initiative': 6, 'queuePhase': 1, 'speed': 6}, {'canMove': True, 'canRetalitate': True, 'canWait': False, 'defended': False, 'id': 5, 'initiative': 6, 'queuePhase': 1, 'speed': 6}], [{'canMove': True, 'canRetalitate': True, 'canWait': False, 'defended': False, 'id': 0, 'initiative': 11, 'queuePhase': 1, 'speed': 11}, {'canMove': True, 'canRetalitate': True, 'canWait': False, 'defended': False, 'id': 1, 'initiative': 9, 'queuePhase': 1, 'speed': 9}, {'canMove': True, 'canRetalitate': True, 'canWait': False, 'defended': False, 'id': 2, 'initiative': 6, 'queuePhase': 1, 'speed': 6}, {'canMove': True, 'canRetalitate': True, 'canWait': False, 'defended': False, 'id': 3, 'initiative': 6, 'queuePhase': 1, 'speed': 6}, {'canMove': True, 'canRetalitate': True, 'canWait': False, 'defended': False, 'id': 4, 'initiative': 6, 'queuePhase': 1, 'speed': 6}, {'canMove': True, 'canRetalitate': True, 'canWait': False, 'defended': False, 'id': 5, 'initiative': 6, 'queuePhase': 1, 'speed': 6}], [{'canMove': True, 'canRetalitate': True, 'canWait': False, 'defended': False, 'id': 0, 'initiative': 11, 'queuePhase': 1, 'speed': 11}, {'canMove': True, 'canRetalitate': True, 'canWait': False, 'defended': False, 'id': 1, 'initiative': 9, 'queuePhase': 1, 'speed': 9}, {'canMove': True, 'canRetalitate': True, 'canWait': False, 'defended': False, 'id': 2, 'initiative': 6, 'queuePhase': 1, 'speed': 6}, {'canMove': True, 'canRetalitate': True, 'canWait': False, 'defended': False, 'id': 3, 'initiative': 6, 'queuePhase': 1, 'speed': 6}, {'canMove': True, 'canRetalitate': True, 'canWait': False, 'defended': False, 'id': 4, 'initiative': 6, 'queuePhase': 1, 'speed': 6}, {'canMove': True, 'canRetalitate': True, 'canWait': False, 'defended': False, 'id': 5, 'initiative': 6, 'queuePhase': 1, 'speed': 6}]], 'stacks': [{'ADDITIONAL_ATTACK': False, 'ADDITIONAL_RETALIATION': True, 'ATTACKS_NEAREST_CREATURE': False, 'LIFE_DRAIN': False, 'NO_DISTANCE_PENALTY': False, 'NO_MELEE_PENALTY': False, 'NO_RETALIATION': False, 'THREE_HEADED_ATTACK': False, 'TWO_HEX_ATTACK_BREATH': False, 'attack': 8, 'canCast': False, 'canShoot': False, 'creatureHealth': 25, 'creatureLevel': 3, 'creatureName': 'griffin', 'creatureType': 4, 'defence': 8, 'doubleWide': True, 'healthLeft': 15, 'hex': 14, 'id': 2, 'isClone': False, 'isGhost': False, 'luck': 0, 'maxDamage': 6, 'minDamage': 3, 'morale': 1, 'ranged': {'attack': 8, 'defence': 8, 'maxDamage': 6, 'minDamage': 3}, 'shots': 0, 'side': 1, 'speed': 6, 'stackCount': 6, 'summoned': False, 'totalHealthLeft': 140}, {'ADDITIONAL_ATTACK': False, 'ADDITIONAL_RETALIATION': True, 'ATTACKS_NEAREST_CREATURE': False, 'LIFE_DRAIN': False, 'NO_DISTANCE_PENALTY': False, 'NO_MELEE_PENALTY': False, 'NO_RETALIATION': False, 'THREE_HEADED_ATTACK': False, 'TWO_HEX_ATTACK_BREATH': False, 'attack': 8, 'canCast': False, 'canShoot': False, 'creatureHealth': 25, 'creatureLevel': 3, 'creatureName': 'griffin', 'creatureType': 4, 'defence': 8, 'doubleWide': True, 'healthLeft': 25, 'hex': 82, 'id': 3, 'isClone': False, 'isGhost': False, 'luck': 0, 'maxDamage': 6, 'minDamage': 3, 'morale': 1, 'ranged': {'attack': 8, 'defence': 8, 'maxDamage': 6, 'minDamage': 3}, 'shots': 0, 'side': 1, 'speed': 6, 'stackCount': 8, 'summoned': False, 'totalHealthLeft': 200}, {'ADDITIONAL_ATTACK': False, 'ADDITIONAL_RETALIATION': True, 'ATTACKS_NEAREST_CREATURE': False, 'LIFE_DRAIN': False, 'NO_DISTANCE_PENALTY': False, 'NO_MELEE_PENALTY': False, 'NO_RETALIATION': False, 'THREE_HEADED_ATTACK': False, 'TWO_HEX_ATTACK_BREATH': False, 'attack': 8, 'canCast': False, 'canShoot': False, 'creatureHealth': 25, 'creatureLevel': 3, 'creatureName': 'griffin', 'creatureType': 4, 'defence': 8, 'doubleWide': True, 'healthLeft': 25, 'hex': 116, 'id': 4, 'isClone': False, 'isGhost': False, 'luck': 0, 'maxDamage': 6, 'minDamage': 3, 'morale': 1, 'ranged': {'attack': 8, 'defence': 8, 'maxDamage': 6, 'minDamage': 3}, 'shots': 0, 'side': 1, 'speed': 6, 'stackCount': 7, 'summoned': False, 'totalHealthLeft': 175}, {'ADDITIONAL_ATTACK': False, 'ADDITIONAL_RETALIATION': True, 'ATTACKS_NEAREST_CREATURE': False, 'LIFE_DRAIN': False, 'NO_DISTANCE_PENALTY': False, 'NO_MELEE_PENALTY': False, 'NO_RETALIATION': False, 'THREE_HEADED_ATTACK': False, 'TWO_HEX_ATTACK_BREATH': False, 'attack': 8, 'canCast': False, 'canShoot': False, 'creatureHealth': 25, 'creatureLevel': 3, 'creatureName': 'griffin', 'creatureType': 4, 'defence': 8, 'doubleWide': True, 'healthLeft': 25, 'hex': 184, 'id': 5, 'isClone': False, 'isGhost': False, 'luck': 0, 'maxDamage': 6, 'minDamage': 3, 'morale': 1, 'ranged': {'attack': 8, 'defence': 8, 'maxDamage': 6, 'minDamage': 3}, 'shots': 0, 'side': 1, 'speed': 6, 'stackCount': 7, 'summoned': False, 'totalHealthLeft': 175}, {'ADDITIONAL_ATTACK': False, 'ADDITIONAL_RETALIATION': False, 'ATTACKS_NEAREST_CREATURE': False, 'LIFE_DRAIN': False, 'NO_DISTANCE_PENALTY': False, 'NO_MELEE_PENALTY': True, 'NO_RETALIATION': False, 'THREE_HEADED_ATTACK': False, 'TWO_HEX_ATTACK_BREATH': False, 'attack': 27, 'canCast': False, 'canShoot': True, 'creatureHealth': 300, 'creatureLevel': 7, 'creatureName': 'titan', 'creatureType': 41, 'defence': 30, 'doubleWide': False, 'healthLeft': 300, 'hex': 35, 'id': 0, 'isClone': False, 'isGhost': False, 'luck': 0, 'maxDamage': 60, 'minDamage': 40, 'morale': 3, 'ranged': {'attack': 27, 'defence': 30, 'maxDamage': 60, 'minDamage': 40}, 'shots': 24, 'side': 0, 'speed': 11, 'stackCount': 1, 'summoned': False, 'totalHealthLeft': 300}, {'ADDITIONAL_ATTACK': False, 'ADDITIONAL_RETALIATION': False, 'ATTACKS_NEAREST_CREATURE': False, 'LIFE_DRAIN': False, 'NO_DISTANCE_PENALTY': False, 'NO_MELEE_PENALTY': False, 'NO_RETALIATION': False, 'THREE_HEADED_ATTACK': False, 'TWO_HEX_ATTACK_BREATH': False, 'attack': 10, 'canCast': False, 'canShoot': False, 'creatureHealth': 16, 'creatureLevel': 2, 'creatureName': 'obsidianGargoyle', 'creatureType': 31, 'defence': 13, 'doubleWide': False, 'healthLeft': 16, 'hex': 137, 'id': 1, 'isClone': False, 'isGhost': False, 'luck': 0, 'maxDamage': 3, 'minDamage': 2, 'morale': 3, 'ranged': {'attack': 10, 'defence': 13, 'maxDamage': 3, 'minDamage': 2}, 'shots': 0, 'side': 0, 'speed': 9, 'stackCount': 30, 'summoned': False, 'totalHealthLeft': 480}], 'terrain': 0}\n",
    "request2 = {'actions': {'canDefend': True, 'canWait': True, 'possibleAttacks': [], 'possibleMoves': [1, 2, 3, 4, 5, 6, 18, 19, 20, 21, 22, 23, 24, 36, 37, 38, 39, 40, 41, 52, 53, 54, 55, 58, 59, 69, 70, 71, 74, 75, 76, 86, 87, 88, 89, 90, 91, 92, 93, 94, 103, 104, 105, 106, 107, 108, 109, 110, 111, 120, 121, 124, 125, 126, 127, 128, 129, 138, 139, 140, 141, 142, 143, 154, 155, 156, 157, 158, 159, 160, 161, 162, 163, 171, 172, 173, 174, 175, 176, 177, 178, 179]}, 'activeStackId': 1, 'battlefield': 5, 'currentSide': 0, 'order': [[{'canMove': True, 'canRetalitate': True, 'canWait': False, 'defended': False, 'id': 1, 'initiative': 9, 'queuePhase': 1, 'speed': 9}, {'canMove': True, 'canRetalitate': True, 'canWait': False, 'defended': False, 'id': 2, 'initiative': 6, 'queuePhase': 1, 'speed': 6}, {'canMove': True, 'canRetalitate': True, 'canWait': False, 'defended': False, 'id': 3, 'initiative': 6, 'queuePhase': 1, 'speed': 6}, {'canMove': True, 'canRetalitate': True, 'canWait': False, 'defended': False, 'id': 4, 'initiative': 6, 'queuePhase': 1, 'speed': 6}, {'canMove': True, 'canRetalitate': True, 'canWait': False, 'defended': False, 'id': 5, 'initiative': 6, 'queuePhase': 1, 'speed': 6}], [{'canMove': True, 'canRetalitate': True, 'canWait': False, 'defended': False, 'id': 0, 'initiative': 11, 'queuePhase': 1, 'speed': 11}, {'canMove': True, 'canRetalitate': True, 'canWait': False, 'defended': False, 'id': 1, 'initiative': 9, 'queuePhase': 1, 'speed': 9}, {'canMove': True, 'canRetalitate': True, 'canWait': False, 'defended': False, 'id': 2, 'initiative': 6, 'queuePhase': 1, 'speed': 6}, {'canMove': True, 'canRetalitate': True, 'canWait': False, 'defended': False, 'id': 3, 'initiative': 6, 'queuePhase': 1, 'speed': 6}, {'canMove': True, 'canRetalitate': True, 'canWait': False, 'defended': False, 'id': 4, 'initiative': 6, 'queuePhase': 1, 'speed': 6}, {'canMove': True, 'canRetalitate': True, 'canWait': False, 'defended': False, 'id': 5, 'initiative': 6, 'queuePhase': 1, 'speed': 6}], [{'canMove': True, 'canRetalitate': True, 'canWait': False, 'defended': False, 'id': 0, 'initiative': 11, 'queuePhase': 1, 'speed': 11}, {'canMove': True, 'canRetalitate': True, 'canWait': False, 'defended': False, 'id': 1, 'initiative': 9, 'queuePhase': 1, 'speed': 9}, {'canMove': True, 'canRetalitate': True, 'canWait': False, 'defended': False, 'id': 2, 'initiative': 6, 'queuePhase': 1, 'speed': 6}, {'canMove': True, 'canRetalitate': True, 'canWait': False, 'defended': False, 'id': 3, 'initiative': 6, 'queuePhase': 1, 'speed': 6}, {'canMove': True, 'canRetalitate': True, 'canWait': False, 'defended': False, 'id': 4, 'initiative': 6, 'queuePhase': 1, 'speed': 6}, {'canMove': True, 'canRetalitate': True, 'canWait': False, 'defended': False, 'id': 5, 'initiative': 6, 'queuePhase': 1, 'speed': 6}]], 'stacks': [{'ADDITIONAL_ATTACK': False, 'ADDITIONAL_RETALIATION': True, 'ATTACKS_NEAREST_CREATURE': False, 'LIFE_DRAIN': False, 'NO_DISTANCE_PENALTY': False, 'NO_MELEE_PENALTY': False, 'NO_RETALIATION': False, 'THREE_HEADED_ATTACK': False, 'TWO_HEX_ATTACK_BREATH': False, 'attack': 8, 'canCast': False, 'canShoot': False, 'creatureHealth': 25, 'creatureLevel': 3, 'creatureName': 'griffin', 'creatureType': 4, 'defence': 8, 'doubleWide': True, 'healthLeft': 25, 'hex': 14, 'id': 2, 'isClone': False, 'isGhost': False, 'luck': 0, 'maxDamage': 6, 'minDamage': 3, 'morale': 1, 'ranged': {'attack': 8, 'defence': 8, 'maxDamage': 6, 'minDamage': 3}, 'shots': 0, 'side': 1, 'speed': 6, 'stackCount': 3, 'summoned': False, 'totalHealthLeft': 75}, {'ADDITIONAL_ATTACK': False, 'ADDITIONAL_RETALIATION': True, 'ATTACKS_NEAREST_CREATURE': False, 'LIFE_DRAIN': False, 'NO_DISTANCE_PENALTY': False, 'NO_MELEE_PENALTY': False, 'NO_RETALIATION': False, 'THREE_HEADED_ATTACK': False, 'TWO_HEX_ATTACK_BREATH': False, 'attack': 8, 'canCast': False, 'canShoot': False, 'creatureHealth': 25, 'creatureLevel': 3, 'creatureName': 'griffin', 'creatureType': 4, 'defence': 8, 'doubleWide': True, 'healthLeft': 25, 'hex': 82, 'id': 3, 'isClone': False, 'isGhost': False, 'luck': 0, 'maxDamage': 6, 'minDamage': 3, 'morale': 1, 'ranged': {'attack': 8, 'defence': 8, 'maxDamage': 6, 'minDamage': 3}, 'shots': 0, 'side': 1, 'speed': 6, 'stackCount': 8, 'summoned': False, 'totalHealthLeft': 200}, {'ADDITIONAL_ATTACK': False, 'ADDITIONAL_RETALIATION': True, 'ATTACKS_NEAREST_CREATURE': False, 'LIFE_DRAIN': False, 'NO_DISTANCE_PENALTY': False, 'NO_MELEE_PENALTY': False, 'NO_RETALIATION': False, 'THREE_HEADED_ATTACK': False, 'TWO_HEX_ATTACK_BREATH': False, 'attack': 8, 'canCast': False, 'canShoot': False, 'creatureHealth': 25, 'creatureLevel': 3, 'creatureName': 'griffin', 'creatureType': 4, 'defence': 8, 'doubleWide': True, 'healthLeft': 25, 'hex': 116, 'id': 4, 'isClone': False, 'isGhost': False, 'luck': 0, 'maxDamage': 6, 'minDamage': 3, 'morale': 1, 'ranged': {'attack': 8, 'defence': 8, 'maxDamage': 6, 'minDamage': 3}, 'shots': 0, 'side': 1, 'speed': 6, 'stackCount': 7, 'summoned': False, 'totalHealthLeft': 175}, {'ADDITIONAL_ATTACK': False, 'ADDITIONAL_RETALIATION': True, 'ATTACKS_NEAREST_CREATURE': False, 'LIFE_DRAIN': False, 'NO_DISTANCE_PENALTY': False, 'NO_MELEE_PENALTY': False, 'NO_RETALIATION': False, 'THREE_HEADED_ATTACK': False, 'TWO_HEX_ATTACK_BREATH': False, 'attack': 8, 'canCast': False, 'canShoot': False, 'creatureHealth': 25, 'creatureLevel': 3, 'creatureName': 'griffin', 'creatureType': 4, 'defence': 8, 'doubleWide': True, 'healthLeft': 25, 'hex': 184, 'id': 5, 'isClone': False, 'isGhost': False, 'luck': 0, 'maxDamage': 6, 'minDamage': 3, 'morale': 1, 'ranged': {'attack': 8, 'defence': 8, 'maxDamage': 6, 'minDamage': 3}, 'shots': 0, 'side': 1, 'speed': 6, 'stackCount': 7, 'summoned': False, 'totalHealthLeft': 175}, {'ADDITIONAL_ATTACK': False, 'ADDITIONAL_RETALIATION': False, 'ATTACKS_NEAREST_CREATURE': False, 'LIFE_DRAIN': False, 'NO_DISTANCE_PENALTY': False, 'NO_MELEE_PENALTY': True, 'NO_RETALIATION': False, 'THREE_HEADED_ATTACK': False, 'TWO_HEX_ATTACK_BREATH': False, 'attack': 27, 'canCast': False, 'canShoot': True, 'creatureHealth': 300, 'creatureLevel': 7, 'creatureName': 'titan', 'creatureType': 41, 'defence': 30, 'doubleWide': False, 'healthLeft': 300, 'hex': 35, 'id': 0, 'isClone': False, 'isGhost': False, 'luck': 0, 'maxDamage': 60, 'minDamage': 40, 'morale': 3, 'ranged': {'attack': 27, 'defence': 30, 'maxDamage': 60, 'minDamage': 40}, 'shots': 24, 'side': 0, 'speed': 11, 'stackCount': 1, 'summoned': False, 'totalHealthLeft': 300}, {'ADDITIONAL_ATTACK': False, 'ADDITIONAL_RETALIATION': False, 'ATTACKS_NEAREST_CREATURE': False, 'LIFE_DRAIN': False, 'NO_DISTANCE_PENALTY': False, 'NO_MELEE_PENALTY': False, 'NO_RETALIATION': False, 'THREE_HEADED_ATTACK': False, 'TWO_HEX_ATTACK_BREATH': False, 'attack': 10, 'canCast': False, 'canShoot': False, 'creatureHealth': 16, 'creatureLevel': 2, 'creatureName': 'obsidianGargoyle', 'creatureType': 31, 'defence': 13, 'doubleWide': False, 'healthLeft': 16, 'hex': 137, 'id': 1, 'isClone': False, 'isGhost': False, 'luck': 0, 'maxDamage': 3, 'minDamage': 2, 'morale': 3, 'ranged': {'attack': 10, 'defence': 13, 'maxDamage': 3, 'minDamage': 2}, 'shots': 0, 'side': 0, 'speed': 9, 'stackCount': 30, 'summoned': False, 'totalHealthLeft': 480}], 'terrain': 0}\n",
    "request3 = {'actions': {'canDefend': True, 'canWait': True, 'possibleAttacks': [{'affectedUnitIds': [3], 'damageDealt': 122, 'damageReceived': {'collateral': 0, 'retalitation': 0}, 'defenderId': 3, 'moveToHex': -1, 'shootersBlockedDamage': 0, 'shooting': True}, {'affectedUnitIds': [4], 'damageDealt': 106, 'damageReceived': {'collateral': 0, 'retalitation': 0}, 'defenderId': 4, 'moveToHex': -1, 'shootersBlockedDamage': 0, 'shooting': True}, {'affectedUnitIds': [2], 'damageDealt': 75, 'damageReceived': {'collateral': 0, 'retalitation': 0}, 'defenderId': 2, 'moveToHex': -1, 'shootersBlockedDamage': 0, 'shooting': True}, {'affectedUnitIds': [5], 'damageDealt': 61, 'damageReceived': {'collateral': 0, 'retalitation': 0}, 'defenderId': 5, 'moveToHex': -1, 'shootersBlockedDamage': 0, 'shooting': True}], 'possibleMoves': [2, 3, 4, 5, 6, 7, 10, 11, 18, 19, 20, 21, 22, 23, 24, 25, 26, 27, 28, 29, 36, 37, 38, 39, 40, 41, 42, 45, 52, 53, 54, 55, 58, 59, 60, 69, 70, 71, 74, 75, 76, 77, 78, 86, 87, 88, 89, 90, 91, 92, 93, 94, 95, 103, 104, 105, 106, 107, 108, 109, 110, 111, 112, 120, 121, 124, 125, 126, 127, 128, 129, 137, 138, 139, 140, 141, 142, 143, 154, 155, 156, 157, 158, 159, 160, 161, 162, 171, 172, 173, 174, 175, 176, 177, 178]}, 'activeStackId': 0, 'battlefield': 5, 'currentSide': 0, 'order': [[{'canMove': True, 'canRetalitate': True, 'canWait': False, 'defended': False, 'id': 0, 'initiative': 11, 'queuePhase': 1, 'speed': 11}, {'canMove': True, 'canRetalitate': True, 'canWait': False, 'defended': False, 'id': 1, 'initiative': 9, 'queuePhase': 1, 'speed': 9}, {'canMove': True, 'canRetalitate': True, 'canWait': False, 'defended': False, 'id': 2, 'initiative': 6, 'queuePhase': 1, 'speed': 6}, {'canMove': True, 'canRetalitate': True, 'canWait': False, 'defended': False, 'id': 3, 'initiative': 6, 'queuePhase': 1, 'speed': 6}, {'canMove': True, 'canRetalitate': True, 'canWait': False, 'defended': False, 'id': 4, 'initiative': 6, 'queuePhase': 1, 'speed': 6}, {'canMove': True, 'canRetalitate': True, 'canWait': False, 'defended': False, 'id': 5, 'initiative': 6, 'queuePhase': 1, 'speed': 6}], [{'canMove': True, 'canRetalitate': True, 'canWait': False, 'defended': False, 'id': 0, 'initiative': 11, 'queuePhase': 1, 'speed': 11}, {'canMove': True, 'canRetalitate': True, 'canWait': False, 'defended': False, 'id': 1, 'initiative': 9, 'queuePhase': 1, 'speed': 9}, {'canMove': True, 'canRetalitate': True, 'canWait': False, 'defended': False, 'id': 2, 'initiative': 6, 'queuePhase': 1, 'speed': 6}, {'canMove': True, 'canRetalitate': True, 'canWait': False, 'defended': False, 'id': 3, 'initiative': 6, 'queuePhase': 1, 'speed': 6}, {'canMove': True, 'canRetalitate': True, 'canWait': False, 'defended': False, 'id': 4, 'initiative': 6, 'queuePhase': 1, 'speed': 6}, {'canMove': True, 'canRetalitate': True, 'canWait': False, 'defended': False, 'id': 5, 'initiative': 6, 'queuePhase': 1, 'speed': 6}], [{'canMove': True, 'canRetalitate': True, 'canWait': False, 'defended': False, 'id': 0, 'initiative': 11, 'queuePhase': 1, 'speed': 11}, {'canMove': True, 'canRetalitate': True, 'canWait': False, 'defended': False, 'id': 1, 'initiative': 9, 'queuePhase': 1, 'speed': 9}, {'canMove': True, 'canRetalitate': True, 'canWait': False, 'defended': False, 'id': 2, 'initiative': 6, 'queuePhase': 1, 'speed': 6}, {'canMove': True, 'canRetalitate': True, 'canWait': False, 'defended': False, 'id': 3, 'initiative': 6, 'queuePhase': 1, 'speed': 6}, {'canMove': True, 'canRetalitate': True, 'canWait': False, 'defended': False, 'id': 4, 'initiative': 6, 'queuePhase': 1, 'speed': 6}, {'canMove': True, 'canRetalitate': True, 'canWait': False, 'defended': False, 'id': 5, 'initiative': 6, 'queuePhase': 1, 'speed': 6}]], 'stacks': [{'ADDITIONAL_ATTACK': False, 'ADDITIONAL_RETALIATION': True, 'ATTACKS_NEAREST_CREATURE': False, 'LIFE_DRAIN': False, 'NO_DISTANCE_PENALTY': False, 'NO_MELEE_PENALTY': False, 'NO_RETALIATION': False, 'THREE_HEADED_ATTACK': False, 'TWO_HEX_ATTACK_BREATH': False, 'attack': 8, 'canCast': False, 'canShoot': False, 'creatureHealth': 25, 'creatureLevel': 3, 'creatureName': 'griffin', 'creatureType': 4, 'defence': 8, 'doubleWide': True, 'healthLeft': 25, 'hex': 8, 'id': 2, 'isClone': False, 'isGhost': False, 'luck': 0, 'maxDamage': 6, 'minDamage': 3, 'morale': 1, 'ranged': {'attack': 8, 'defence': 8, 'maxDamage': 6, 'minDamage': 3}, 'shots': 0, 'side': 1, 'speed': 6, 'stackCount': 3, 'summoned': False, 'totalHealthLeft': 75}, {'ADDITIONAL_ATTACK': False, 'ADDITIONAL_RETALIATION': True, 'ATTACKS_NEAREST_CREATURE': False, 'LIFE_DRAIN': False, 'NO_DISTANCE_PENALTY': False, 'NO_MELEE_PENALTY': False, 'NO_RETALIATION': False, 'THREE_HEADED_ATTACK': False, 'TWO_HEX_ATTACK_BREATH': False, 'attack': 8, 'canCast': False, 'canShoot': False, 'creatureHealth': 25, 'creatureLevel': 3, 'creatureName': 'griffin', 'creatureType': 4, 'defence': 8, 'doubleWide': True, 'healthLeft': 25, 'hex': 43, 'id': 3, 'isClone': False, 'isGhost': False, 'luck': 0, 'maxDamage': 6, 'minDamage': 3, 'morale': 1, 'ranged': {'attack': 8, 'defence': 8, 'maxDamage': 6, 'minDamage': 3}, 'shots': 0, 'side': 1, 'speed': 6, 'stackCount': 8, 'summoned': False, 'totalHealthLeft': 200}, {'ADDITIONAL_ATTACK': False, 'ADDITIONAL_RETALIATION': True, 'ATTACKS_NEAREST_CREATURE': False, 'LIFE_DRAIN': False, 'NO_DISTANCE_PENALTY': False, 'NO_MELEE_PENALTY': False, 'NO_RETALIATION': False, 'THREE_HEADED_ATTACK': False, 'TWO_HEX_ATTACK_BREATH': False, 'attack': 8, 'canCast': False, 'canShoot': False, 'creatureHealth': 25, 'creatureLevel': 3, 'creatureName': 'griffin', 'creatureType': 4, 'defence': 8, 'doubleWide': True, 'healthLeft': 15, 'hex': 61, 'id': 4, 'isClone': False, 'isGhost': False, 'luck': 0, 'maxDamage': 6, 'minDamage': 3, 'morale': 1, 'ranged': {'attack': 8, 'defence': 8, 'maxDamage': 6, 'minDamage': 3}, 'shots': 0, 'side': 1, 'speed': 6, 'stackCount': 5, 'summoned': False, 'totalHealthLeft': 115}, {'ADDITIONAL_ATTACK': False, 'ADDITIONAL_RETALIATION': True, 'ATTACKS_NEAREST_CREATURE': False, 'LIFE_DRAIN': False, 'NO_DISTANCE_PENALTY': False, 'NO_MELEE_PENALTY': False, 'NO_RETALIATION': False, 'THREE_HEADED_ATTACK': False, 'TWO_HEX_ATTACK_BREATH': False, 'attack': 8, 'canCast': False, 'canShoot': False, 'creatureHealth': 25, 'creatureLevel': 3, 'creatureName': 'griffin', 'creatureType': 4, 'defence': 8, 'doubleWide': True, 'healthLeft': 25, 'hex': 96, 'id': 5, 'isClone': False, 'isGhost': False, 'luck': 0, 'maxDamage': 6, 'minDamage': 3, 'morale': 1, 'ranged': {'attack': 8, 'defence': 8, 'maxDamage': 6, 'minDamage': 3}, 'shots': 0, 'side': 1, 'speed': 6, 'stackCount': 7, 'summoned': False, 'totalHealthLeft': 175}, {'ADDITIONAL_ATTACK': False, 'ADDITIONAL_RETALIATION': False, 'ATTACKS_NEAREST_CREATURE': False, 'LIFE_DRAIN': False, 'NO_DISTANCE_PENALTY': False, 'NO_MELEE_PENALTY': True, 'NO_RETALIATION': False, 'THREE_HEADED_ATTACK': False, 'TWO_HEX_ATTACK_BREATH': False, 'attack': 27, 'canCast': False, 'canShoot': True, 'creatureHealth': 300, 'creatureLevel': 7, 'creatureName': 'titan', 'creatureType': 41, 'defence': 30, 'doubleWide': False, 'healthLeft': 300, 'hex': 35, 'id': 0, 'isClone': False, 'isGhost': False, 'luck': 0, 'maxDamage': 60, 'minDamage': 40, 'morale': 3, 'ranged': {'attack': 27, 'defence': 30, 'maxDamage': 60, 'minDamage': 40}, 'shots': 24, 'side': 0, 'speed': 11, 'stackCount': 1, 'summoned': False, 'totalHealthLeft': 300}, {'ADDITIONAL_ATTACK': False, 'ADDITIONAL_RETALIATION': False, 'ATTACKS_NEAREST_CREATURE': False, 'LIFE_DRAIN': False, 'NO_DISTANCE_PENALTY': False, 'NO_MELEE_PENALTY': False, 'NO_RETALIATION': False, 'THREE_HEADED_ATTACK': False, 'TWO_HEX_ATTACK_BREATH': False, 'attack': 10, 'canCast': False, 'canShoot': False, 'creatureHealth': 16, 'creatureLevel': 2, 'creatureName': 'obsidianGargoyle', 'creatureType': 31, 'defence': 13, 'doubleWide': False, 'healthLeft': 16, 'hex': 1, 'id': 1, 'isClone': False, 'isGhost': False, 'luck': 0, 'maxDamage': 3, 'minDamage': 2, 'morale': 3, 'ranged': {'attack': 10, 'defence': 13, 'maxDamage': 3, 'minDamage': 2}, 'shots': 0, 'side': 0, 'speed': 9, 'stackCount': 30, 'summoned': False, 'totalHealthLeft': 480}], 'terrain': 0}\n",
    "request4 = {'actions': {'canDefend': True, 'canWait': True, 'possibleAttacks': [{'affectedUnitIds': [3], 'damageDealt': 82, 'damageReceived': {'collateral': 0, 'retalitation': 6}, 'defenderId': 3, 'moveToHex': 26, 'shootersBlockedDamage': 0, 'shooting': False}, {'affectedUnitIds': [3], 'damageDealt': 82, 'damageReceived': {'collateral': 0, 'retalitation': 6}, 'defenderId': 3, 'moveToHex': 27, 'shootersBlockedDamage': 0, 'shooting': False}, {'affectedUnitIds': [3], 'damageDealt': 82, 'damageReceived': {'collateral': 0, 'retalitation': 6}, 'defenderId': 3, 'moveToHex': 42, 'shootersBlockedDamage': 0, 'shooting': False}, {'affectedUnitIds': [3], 'damageDealt': 82, 'damageReceived': {'collateral': 0, 'retalitation': 6}, 'defenderId': 3, 'moveToHex': 60, 'shootersBlockedDamage': 0, 'shooting': False}, {'affectedUnitIds': [4], 'damageDealt': 82, 'damageReceived': {'collateral': 0, 'retalitation': 6}, 'defenderId': 4, 'moveToHex': 60, 'shootersBlockedDamage': 0, 'shooting': False}, {'affectedUnitIds': [2], 'damageDealt': 70, 'damageReceived': {'collateral': 0, 'retalitation': 3}, 'defenderId': 2, 'moveToHex': 7, 'shootersBlockedDamage': 0, 'shooting': False}, {'affectedUnitIds': [2], 'damageDealt': 70, 'damageReceived': {'collateral': 0, 'retalitation': 3}, 'defenderId': 2, 'moveToHex': 10, 'shootersBlockedDamage': 0, 'shooting': False}, {'affectedUnitIds': [2], 'damageDealt': 70, 'damageReceived': {'collateral': 0, 'retalitation': 3}, 'defenderId': 2, 'moveToHex': 25, 'shootersBlockedDamage': 0, 'shooting': False}, {'affectedUnitIds': [2], 'damageDealt': 70, 'damageReceived': {'collateral': 0, 'retalitation': 3}, 'defenderId': 2, 'moveToHex': 26, 'shootersBlockedDamage': 0, 'shooting': False}, {'affectedUnitIds': [2], 'damageDealt': 70, 'damageReceived': {'collateral': 0, 'retalitation': 3}, 'defenderId': 2, 'moveToHex': 27, 'shootersBlockedDamage': 0, 'shooting': False}], 'possibleMoves': [2, 3, 4, 5, 6, 7, 10, 18, 19, 20, 21, 22, 23, 24, 25, 26, 27, 36, 37, 38, 39, 40, 41, 42, 52, 53, 54, 55, 58, 59, 60, 69, 70, 71, 74, 75, 76, 86, 87, 88, 89, 90, 91, 92, 93, 103, 104, 105, 106, 107, 108, 109, 120, 121, 124, 125, 126, 137, 138, 139, 140, 141, 142, 154, 155, 156, 157, 158, 159]}, 'activeStackId': 1, 'battlefield': 5, 'currentSide': 0, 'order': [[{'canMove': True, 'canRetalitate': True, 'canWait': False, 'defended': False, 'id': 1, 'initiative': 9, 'queuePhase': 1, 'speed': 9}, {'canMove': True, 'canRetalitate': True, 'canWait': False, 'defended': False, 'id': 2, 'initiative': 6, 'queuePhase': 1, 'speed': 6}, {'canMove': True, 'canRetalitate': True, 'canWait': False, 'defended': False, 'id': 3, 'initiative': 6, 'queuePhase': 1, 'speed': 6}, {'canMove': True, 'canRetalitate': True, 'canWait': False, 'defended': False, 'id': 4, 'initiative': 6, 'queuePhase': 1, 'speed': 6}, {'canMove': True, 'canRetalitate': True, 'canWait': False, 'defended': False, 'id': 5, 'initiative': 6, 'queuePhase': 1, 'speed': 6}], [{'canMove': True, 'canRetalitate': True, 'canWait': False, 'defended': False, 'id': 0, 'initiative': 11, 'queuePhase': 1, 'speed': 11}, {'canMove': True, 'canRetalitate': True, 'canWait': False, 'defended': False, 'id': 1, 'initiative': 9, 'queuePhase': 1, 'speed': 9}, {'canMove': True, 'canRetalitate': True, 'canWait': False, 'defended': False, 'id': 2, 'initiative': 6, 'queuePhase': 1, 'speed': 6}, {'canMove': True, 'canRetalitate': True, 'canWait': False, 'defended': False, 'id': 3, 'initiative': 6, 'queuePhase': 1, 'speed': 6}, {'canMove': True, 'canRetalitate': True, 'canWait': False, 'defended': False, 'id': 4, 'initiative': 6, 'queuePhase': 1, 'speed': 6}, {'canMove': True, 'canRetalitate': True, 'canWait': False, 'defended': False, 'id': 5, 'initiative': 6, 'queuePhase': 1, 'speed': 6}], [{'canMove': True, 'canRetalitate': True, 'canWait': False, 'defended': False, 'id': 0, 'initiative': 11, 'queuePhase': 1, 'speed': 11}, {'canMove': True, 'canRetalitate': True, 'canWait': False, 'defended': False, 'id': 1, 'initiative': 9, 'queuePhase': 1, 'speed': 9}, {'canMove': True, 'canRetalitate': True, 'canWait': False, 'defended': False, 'id': 2, 'initiative': 6, 'queuePhase': 1, 'speed': 6}, {'canMove': True, 'canRetalitate': True, 'canWait': False, 'defended': False, 'id': 3, 'initiative': 6, 'queuePhase': 1, 'speed': 6}, {'canMove': True, 'canRetalitate': True, 'canWait': False, 'defended': False, 'id': 4, 'initiative': 6, 'queuePhase': 1, 'speed': 6}, {'canMove': True, 'canRetalitate': True, 'canWait': False, 'defended': False, 'id': 5, 'initiative': 6, 'queuePhase': 1, 'speed': 6}]], 'stacks': [{'ADDITIONAL_ATTACK': False, 'ADDITIONAL_RETALIATION': True, 'ATTACKS_NEAREST_CREATURE': False, 'LIFE_DRAIN': False, 'NO_DISTANCE_PENALTY': False, 'NO_MELEE_PENALTY': False, 'NO_RETALIATION': False, 'THREE_HEADED_ATTACK': False, 'TWO_HEX_ATTACK_BREATH': False, 'attack': 8, 'canCast': False, 'canShoot': False, 'creatureHealth': 25, 'creatureLevel': 3, 'creatureName': 'griffin', 'creatureType': 4, 'defence': 8, 'doubleWide': True, 'healthLeft': 25, 'hex': 8, 'id': 2, 'isClone': False, 'isGhost': False, 'luck': 0, 'maxDamage': 6, 'minDamage': 3, 'morale': 1, 'ranged': {'attack': 8, 'defence': 8, 'maxDamage': 6, 'minDamage': 3}, 'shots': 0, 'side': 1, 'speed': 6, 'stackCount': 3, 'summoned': False, 'totalHealthLeft': 75}, {'ADDITIONAL_ATTACK': False, 'ADDITIONAL_RETALIATION': True, 'ATTACKS_NEAREST_CREATURE': False, 'LIFE_DRAIN': False, 'NO_DISTANCE_PENALTY': False, 'NO_MELEE_PENALTY': False, 'NO_RETALIATION': False, 'THREE_HEADED_ATTACK': False, 'TWO_HEX_ATTACK_BREATH': False, 'attack': 8, 'canCast': False, 'canShoot': False, 'creatureHealth': 25, 'creatureLevel': 3, 'creatureName': 'griffin', 'creatureType': 4, 'defence': 8, 'doubleWide': True, 'healthLeft': 2, 'hex': 43, 'id': 3, 'isClone': False, 'isGhost': False, 'luck': 0, 'maxDamage': 6, 'minDamage': 3, 'morale': 1, 'ranged': {'attack': 8, 'defence': 8, 'maxDamage': 6, 'minDamage': 3}, 'shots': 0, 'side': 1, 'speed': 6, 'stackCount': 5, 'summoned': False, 'totalHealthLeft': 102}, {'ADDITIONAL_ATTACK': False, 'ADDITIONAL_RETALIATION': True, 'ATTACKS_NEAREST_CREATURE': False, 'LIFE_DRAIN': False, 'NO_DISTANCE_PENALTY': False, 'NO_MELEE_PENALTY': False, 'NO_RETALIATION': False, 'THREE_HEADED_ATTACK': False, 'TWO_HEX_ATTACK_BREATH': False, 'attack': 8, 'canCast': False, 'canShoot': False, 'creatureHealth': 25, 'creatureLevel': 3, 'creatureName': 'griffin', 'creatureType': 4, 'defence': 8, 'doubleWide': True, 'healthLeft': 15, 'hex': 61, 'id': 4, 'isClone': False, 'isGhost': False, 'luck': 0, 'maxDamage': 6, 'minDamage': 3, 'morale': 1, 'ranged': {'attack': 8, 'defence': 8, 'maxDamage': 6, 'minDamage': 3}, 'shots': 0, 'side': 1, 'speed': 6, 'stackCount': 5, 'summoned': False, 'totalHealthLeft': 115}, {'ADDITIONAL_ATTACK': False, 'ADDITIONAL_RETALIATION': True, 'ATTACKS_NEAREST_CREATURE': False, 'LIFE_DRAIN': False, 'NO_DISTANCE_PENALTY': False, 'NO_MELEE_PENALTY': False, 'NO_RETALIATION': False, 'THREE_HEADED_ATTACK': False, 'TWO_HEX_ATTACK_BREATH': False, 'attack': 8, 'canCast': False, 'canShoot': False, 'creatureHealth': 25, 'creatureLevel': 3, 'creatureName': 'griffin', 'creatureType': 4, 'defence': 8, 'doubleWide': True, 'healthLeft': 25, 'hex': 96, 'id': 5, 'isClone': False, 'isGhost': False, 'luck': 0, 'maxDamage': 6, 'minDamage': 3, 'morale': 1, 'ranged': {'attack': 8, 'defence': 8, 'maxDamage': 6, 'minDamage': 3}, 'shots': 0, 'side': 1, 'speed': 6, 'stackCount': 7, 'summoned': False, 'totalHealthLeft': 175}, {'ADDITIONAL_ATTACK': False, 'ADDITIONAL_RETALIATION': False, 'ATTACKS_NEAREST_CREATURE': False, 'LIFE_DRAIN': False, 'NO_DISTANCE_PENALTY': False, 'NO_MELEE_PENALTY': True, 'NO_RETALIATION': False, 'THREE_HEADED_ATTACK': False, 'TWO_HEX_ATTACK_BREATH': False, 'attack': 27, 'canCast': False, 'canShoot': True, 'creatureHealth': 300, 'creatureLevel': 7, 'creatureName': 'titan', 'creatureType': 41, 'defence': 30, 'doubleWide': False, 'healthLeft': 300, 'hex': 35, 'id': 0, 'isClone': False, 'isGhost': False, 'luck': 0, 'maxDamage': 60, 'minDamage': 40, 'morale': 3, 'ranged': {'attack': 27, 'defence': 30, 'maxDamage': 60, 'minDamage': 40}, 'shots': 24, 'side': 0, 'speed': 11, 'stackCount': 1, 'summoned': False, 'totalHealthLeft': 300}, {'ADDITIONAL_ATTACK': False, 'ADDITIONAL_RETALIATION': False, 'ATTACKS_NEAREST_CREATURE': False, 'LIFE_DRAIN': False, 'NO_DISTANCE_PENALTY': False, 'NO_MELEE_PENALTY': False, 'NO_RETALIATION': False, 'THREE_HEADED_ATTACK': False, 'TWO_HEX_ATTACK_BREATH': False, 'attack': 10, 'canCast': False, 'canShoot': False, 'creatureHealth': 16, 'creatureLevel': 2, 'creatureName': 'obsidianGargoyle', 'creatureType': 31, 'defence': 13, 'doubleWide': False, 'healthLeft': 16, 'hex': 1, 'id': 1, 'isClone': False, 'isGhost': False, 'luck': 0, 'maxDamage': 3, 'minDamage': 2, 'morale': 3, 'ranged': {'attack': 10, 'defence': 13, 'maxDamage': 3, 'minDamage': 2}, 'shots': 0, 'side': 0, 'speed': 9, 'stackCount': 30, 'summoned': False, 'totalHealthLeft': 480}], 'terrain': 0}\n",
    "request5 = {'actions': {'canDefend': True, 'canWait': True, 'possibleAttacks': [{'affectedUnitIds': [5], 'damageDealt': 122, 'damageReceived': {'collateral': 0, 'retalitation': 0}, 'defenderId': 5, 'moveToHex': -1, 'shootersBlockedDamage': 0, 'shooting': True}, {'affectedUnitIds': [4], 'damageDealt': 106, 'damageReceived': {'collateral': 0, 'retalitation': 0}, 'defenderId': 4, 'moveToHex': -1, 'shootersBlockedDamage': 0, 'shooting': True}, {'affectedUnitIds': [3], 'damageDealt': 18, 'damageReceived': {'collateral': 0, 'retalitation': 0}, 'defenderId': 3, 'moveToHex': -1, 'shootersBlockedDamage': 0, 'shooting': True}], 'possibleMoves': [1, 2, 3, 4, 5, 6, 11, 18, 19, 20, 21, 22, 23, 27, 28, 29, 36, 37, 38, 39, 40, 41, 42, 43, 44, 45, 46, 52, 53, 54, 55, 58, 59, 60, 61, 62, 63, 69, 70, 71, 74, 75, 76, 77, 78, 86, 87, 88, 89, 90, 91, 92, 93, 94, 95, 96, 103, 104, 105, 106, 107, 108, 109, 110, 111, 112, 120, 121, 124, 125, 126, 127, 128, 129, 137, 138, 139, 140, 141, 142, 143, 154, 155, 156, 157, 158, 159, 160, 161, 162, 171, 172, 173, 174, 175, 176, 177, 178]}, 'activeStackId': 0, 'battlefield': 5, 'currentSide': 0, 'order': [[{'canMove': True, 'canRetalitate': True, 'canWait': False, 'defended': False, 'id': 0, 'initiative': 11, 'queuePhase': 1, 'speed': 11}, {'canMove': True, 'canRetalitate': True, 'canWait': False, 'defended': False, 'id': 1, 'initiative': 9, 'queuePhase': 1, 'speed': 9}, {'canMove': True, 'canRetalitate': True, 'canWait': False, 'defended': False, 'id': 3, 'initiative': 6, 'queuePhase': 1, 'speed': 6}, {'canMove': True, 'canRetalitate': True, 'canWait': False, 'defended': False, 'id': 4, 'initiative': 6, 'queuePhase': 1, 'speed': 6}, {'canMove': True, 'canRetalitate': True, 'canWait': False, 'defended': False, 'id': 5, 'initiative': 6, 'queuePhase': 1, 'speed': 6}], [{'canMove': True, 'canRetalitate': True, 'canWait': False, 'defended': False, 'id': 0, 'initiative': 11, 'queuePhase': 1, 'speed': 11}, {'canMove': True, 'canRetalitate': True, 'canWait': False, 'defended': False, 'id': 1, 'initiative': 9, 'queuePhase': 1, 'speed': 9}, {'canMove': True, 'canRetalitate': True, 'canWait': False, 'defended': False, 'id': 3, 'initiative': 6, 'queuePhase': 1, 'speed': 6}, {'canMove': True, 'canRetalitate': True, 'canWait': False, 'defended': False, 'id': 4, 'initiative': 6, 'queuePhase': 1, 'speed': 6}, {'canMove': True, 'canRetalitate': True, 'canWait': False, 'defended': False, 'id': 5, 'initiative': 6, 'queuePhase': 1, 'speed': 6}], [{'canMove': True, 'canRetalitate': True, 'canWait': False, 'defended': False, 'id': 0, 'initiative': 11, 'queuePhase': 1, 'speed': 11}, {'canMove': True, 'canRetalitate': True, 'canWait': False, 'defended': False, 'id': 1, 'initiative': 9, 'queuePhase': 1, 'speed': 9}, {'canMove': True, 'canRetalitate': True, 'canWait': False, 'defended': False, 'id': 3, 'initiative': 6, 'queuePhase': 1, 'speed': 6}, {'canMove': True, 'canRetalitate': True, 'canWait': False, 'defended': False, 'id': 4, 'initiative': 6, 'queuePhase': 1, 'speed': 6}, {'canMove': True, 'canRetalitate': True, 'canWait': False, 'defended': False, 'id': 5, 'initiative': 6, 'queuePhase': 1, 'speed': 6}]], 'stacks': [{'ADDITIONAL_ATTACK': False, 'ADDITIONAL_RETALIATION': True, 'ATTACKS_NEAREST_CREATURE': False, 'LIFE_DRAIN': False, 'NO_DISTANCE_PENALTY': False, 'NO_MELEE_PENALTY': False, 'NO_RETALIATION': False, 'THREE_HEADED_ATTACK': False, 'TWO_HEX_ATTACK_BREATH': False, 'attack': 8, 'canCast': False, 'canShoot': False, 'creatureHealth': 25, 'creatureLevel': 3, 'creatureName': 'griffin', 'creatureType': 4, 'defence': 8, 'doubleWide': True, 'healthLeft': 0, 'hex': 7, 'id': 2, 'isClone': False, 'isGhost': False, 'luck': 0, 'maxDamage': 6, 'minDamage': 3, 'morale': 1, 'ranged': {'attack': 8, 'defence': 8, 'maxDamage': 6, 'minDamage': 3}, 'shots': 0, 'side': 1, 'speed': 6, 'stackCount': 0, 'summoned': False, 'totalHealthLeft': 0}, {'ADDITIONAL_ATTACK': False, 'ADDITIONAL_RETALIATION': True, 'ATTACKS_NEAREST_CREATURE': False, 'LIFE_DRAIN': False, 'NO_DISTANCE_PENALTY': False, 'NO_MELEE_PENALTY': False, 'NO_RETALIATION': False, 'THREE_HEADED_ATTACK': False, 'TWO_HEX_ATTACK_BREATH': False, 'attack': 8, 'canCast': False, 'canShoot': False, 'creatureHealth': 25, 'creatureLevel': 3, 'creatureName': 'griffin', 'creatureType': 4, 'defence': 8, 'doubleWide': True, 'healthLeft': 18, 'hex': 7, 'id': 3, 'isClone': False, 'isGhost': False, 'luck': 0, 'maxDamage': 6, 'minDamage': 3, 'morale': 1, 'ranged': {'attack': 8, 'defence': 8, 'maxDamage': 6, 'minDamage': 3}, 'shots': 0, 'side': 1, 'speed': 6, 'stackCount': 1, 'summoned': False, 'totalHealthLeft': 18}, {'ADDITIONAL_ATTACK': False, 'ADDITIONAL_RETALIATION': True, 'ATTACKS_NEAREST_CREATURE': False, 'LIFE_DRAIN': False, 'NO_DISTANCE_PENALTY': False, 'NO_MELEE_PENALTY': False, 'NO_RETALIATION': False, 'THREE_HEADED_ATTACK': False, 'TWO_HEX_ATTACK_BREATH': False, 'attack': 8, 'canCast': False, 'canShoot': False, 'creatureHealth': 25, 'creatureLevel': 3, 'creatureName': 'griffin', 'creatureType': 4, 'defence': 8, 'doubleWide': True, 'healthLeft': 15, 'hex': 9, 'id': 4, 'isClone': False, 'isGhost': False, 'luck': 0, 'maxDamage': 6, 'minDamage': 3, 'morale': 1, 'ranged': {'attack': 8, 'defence': 8, 'maxDamage': 6, 'minDamage': 3}, 'shots': 0, 'side': 1, 'speed': 6, 'stackCount': 5, 'summoned': False, 'totalHealthLeft': 115}, {'ADDITIONAL_ATTACK': False, 'ADDITIONAL_RETALIATION': True, 'ATTACKS_NEAREST_CREATURE': False, 'LIFE_DRAIN': False, 'NO_DISTANCE_PENALTY': False, 'NO_MELEE_PENALTY': False, 'NO_RETALIATION': False, 'THREE_HEADED_ATTACK': False, 'TWO_HEX_ATTACK_BREATH': False, 'attack': 8, 'canCast': False, 'canShoot': False, 'creatureHealth': 25, 'creatureLevel': 3, 'creatureName': 'griffin', 'creatureType': 4, 'defence': 8, 'doubleWide': True, 'healthLeft': 25, 'hex': 24, 'id': 5, 'isClone': False, 'isGhost': False, 'luck': 0, 'maxDamage': 6, 'minDamage': 3, 'morale': 1, 'ranged': {'attack': 8, 'defence': 8, 'maxDamage': 6, 'minDamage': 3}, 'shots': 0, 'side': 1, 'speed': 6, 'stackCount': 7, 'summoned': False, 'totalHealthLeft': 175}, {'ADDITIONAL_ATTACK': False, 'ADDITIONAL_RETALIATION': False, 'ATTACKS_NEAREST_CREATURE': False, 'LIFE_DRAIN': False, 'NO_DISTANCE_PENALTY': False, 'NO_MELEE_PENALTY': True, 'NO_RETALIATION': False, 'THREE_HEADED_ATTACK': False, 'TWO_HEX_ATTACK_BREATH': False, 'attack': 27, 'canCast': False, 'canShoot': True, 'creatureHealth': 300, 'creatureLevel': 7, 'creatureName': 'titan', 'creatureType': 41, 'defence': 30, 'doubleWide': False, 'healthLeft': 300, 'hex': 35, 'id': 0, 'isClone': False, 'isGhost': False, 'luck': 0, 'maxDamage': 60, 'minDamage': 40, 'morale': 3, 'ranged': {'attack': 27, 'defence': 30, 'maxDamage': 60, 'minDamage': 40}, 'shots': 24, 'side': 0, 'speed': 11, 'stackCount': 1, 'summoned': False, 'totalHealthLeft': 300}, {'ADDITIONAL_ATTACK': False, 'ADDITIONAL_RETALIATION': False, 'ATTACKS_NEAREST_CREATURE': False, 'LIFE_DRAIN': False, 'NO_DISTANCE_PENALTY': False, 'NO_MELEE_PENALTY': False, 'NO_RETALIATION': False, 'THREE_HEADED_ATTACK': False, 'TWO_HEX_ATTACK_BREATH': False, 'attack': 10, 'canCast': False, 'canShoot': False, 'creatureHealth': 16, 'creatureLevel': 2, 'creatureName': 'obsidianGargoyle', 'creatureType': 31, 'defence': 13, 'doubleWide': False, 'healthLeft': 11, 'hex': 26, 'id': 1, 'isClone': False, 'isGhost': False, 'luck': 0, 'maxDamage': 3, 'minDamage': 2, 'morale': 3, 'ranged': {'attack': 10, 'defence': 13, 'maxDamage': 3, 'minDamage': 2}, 'shots': 0, 'side': 0, 'speed': 9, 'stackCount': 26, 'summoned': False, 'totalHealthLeft': 411}], 'terrain': 0}\n",
    "moves = [\n",
    "    {'type': 1, 'targetId': 2, 'moveToHex': -1},\n",
    "    {'type': 0, 'moveToHex': 1},\n",
    "    {'type': 1, 'targetId': 3, 'moveToHex': -1},\n",
    "    {'type': 2, 'targetId': 3, 'moveToHex': 26},\n",
    "    {'type': 1, 'targetId': 5, 'moveToHex': -1}\n",
    "]"
   ]
  },
  {
   "cell_type": "code",
   "execution_count": null,
   "id": "single-campus",
   "metadata": {},
   "outputs": [],
   "source": []
  },
  {
   "cell_type": "code",
   "execution_count": 2,
   "id": "configured-fetish",
   "metadata": {
    "scrolled": true
   },
   "outputs": [],
   "source": [
    "requests = [request1, request2, request3, request4, request5]"
   ]
  },
  {
   "cell_type": "code",
   "execution_count": 14,
   "id": "august-beast",
   "metadata": {},
   "outputs": [
    {
     "name": "stdout",
     "output_type": "stream",
     "text": [
      "\n",
      "TURN NUMBER 0\n",
      "2 IS ON 14\n",
      "3 IS ON 82\n",
      "4 IS ON 116\n",
      "5 IS ON 184\n",
      "\n",
      "TURN NUMBER 1\n",
      "2 IS ON 14\n",
      "3 IS ON 82\n",
      "4 IS ON 116\n",
      "5 IS ON 184\n",
      "\n",
      "TURN NUMBER 2\n",
      "2 IS ON 8\n",
      "3 IS ON 43\n",
      "4 IS ON 61\n",
      "5 IS ON 96\n",
      "\n",
      "TURN NUMBER 3\n",
      "2 IS ON 8\n",
      "3 IS ON 43\n",
      "4 IS ON 61\n",
      "5 IS ON 96\n",
      "\n",
      "TURN NUMBER 4\n",
      "2 IS ON 7\n",
      "3 IS ON 7\n",
      "4 IS ON 9\n",
      "5 IS ON 24\n",
      "    1   2   3   4   5   6   7   8   9   10  11  12  13  14  15\n",
      "  16  17  18  19  20  21  22  23  24  25  26  27  28  29  30\n",
      "    31  32  33  34  35  36  37  38  39  40  41  42  43  44  45\n",
      "  46  47  48  49  50  51  52  53  54  55  56  57  58  59  60\n",
      "    61  62  63  64  65  66  67  68  69  70  71  72  73  74  75\n",
      "  76  77  78  79  80  81  82  83  84  85  86  87  88  89  90\n",
      "    91  92  93  94  95  96  97  98  99 100 101 102 103 104 105\n",
      " 106 107 108 109 110 111 112 113 114 115 116 117 118 119 120\n",
      "   121 122 123 124 125 126 127 128 129 130 131 132 133 134 135\n",
      " 136 137 138 139 140 141 142 143 144 145 146 147 148 149 150\n",
      "   151 152 153 154 155 156 157 158 159 160 161 162 163 164 165\n"
     ]
    }
   ],
   "source": [
    "for i, request in enumerate(requests):\n",
    "    print('\\nTURN NUMBER', i)\n",
    "    for stack in request['stacks']:\n",
    "        if stack['creatureName'] == 'griffin':\n",
    "            print(stack['id'], 'IS ON', stack['hex'])\n",
    "print_hexs()"
   ]
  },
  {
   "cell_type": "code",
   "execution_count": 10,
   "id": "expanded-surgery",
   "metadata": {},
   "outputs": [
    {
     "data": {
      "text/plain": [
       "dict_keys(['ADDITIONAL_ATTACK', 'ADDITIONAL_RETALIATION', 'ATTACKS_NEAREST_CREATURE', 'LIFE_DRAIN', 'NO_DISTANCE_PENALTY', 'NO_MELEE_PENALTY', 'NO_RETALIATION', 'THREE_HEADED_ATTACK', 'TWO_HEX_ATTACK_BREATH', 'attack', 'canCast', 'canShoot', 'creatureHealth', 'creatureLevel', 'creatureName', 'creatureType', 'defence', 'doubleWide', 'healthLeft', 'hex', 'id', 'isClone', 'isGhost', 'luck', 'maxDamage', 'minDamage', 'morale', 'ranged', 'shots', 'side', 'speed', 'stackCount', 'summoned', 'totalHealthLeft'])"
      ]
     },
     "execution_count": 10,
     "metadata": {},
     "output_type": "execute_result"
    }
   ],
   "source": [
    "request1['stacks'][0].keys()"
   ]
  },
  {
   "cell_type": "code",
   "execution_count": null,
   "id": "pleased-uncle",
   "metadata": {},
   "outputs": [],
   "source": []
  },
  {
   "cell_type": "code",
   "execution_count": null,
   "id": "planned-class",
   "metadata": {},
   "outputs": [],
   "source": []
  },
  {
   "cell_type": "code",
   "execution_count": null,
   "id": "corporate-denial",
   "metadata": {},
   "outputs": [],
   "source": []
  },
  {
   "cell_type": "code",
   "execution_count": null,
   "id": "religious-store",
   "metadata": {},
   "outputs": [],
   "source": []
  },
  {
   "cell_type": "code",
   "execution_count": null,
   "id": "complex-telephone",
   "metadata": {},
   "outputs": [],
   "source": []
  },
  {
   "cell_type": "code",
   "execution_count": 3,
   "id": "young-format",
   "metadata": {},
   "outputs": [
    {
     "data": {
      "text/plain": [
       "{'canDefend': True,\n",
       " 'canWait': True,\n",
       " 'possibleAttacks': [{'affectedUnitIds': [2],\n",
       "   'damageDealt': 61,\n",
       "   'damageReceived': {'collateral': 0, 'retalitation': 0},\n",
       "   'defenderId': 2,\n",
       "   'moveToHex': -1,\n",
       "   'shootersBlockedDamage': 0,\n",
       "   'shooting': True},\n",
       "  {'affectedUnitIds': [3],\n",
       "   'damageDealt': 61,\n",
       "   'damageReceived': {'collateral': 0, 'retalitation': 0},\n",
       "   'defenderId': 3,\n",
       "   'moveToHex': -1,\n",
       "   'shootersBlockedDamage': 0,\n",
       "   'shooting': True},\n",
       "  {'affectedUnitIds': [4],\n",
       "   'damageDealt': 61,\n",
       "   'damageReceived': {'collateral': 0, 'retalitation': 0},\n",
       "   'defenderId': 4,\n",
       "   'moveToHex': -1,\n",
       "   'shootersBlockedDamage': 0,\n",
       "   'shooting': True},\n",
       "  {'affectedUnitIds': [5],\n",
       "   'damageDealt': 61,\n",
       "   'damageReceived': {'collateral': 0, 'retalitation': 0},\n",
       "   'defenderId': 5,\n",
       "   'moveToHex': -1,\n",
       "   'shootersBlockedDamage': 0,\n",
       "   'shooting': True}],\n",
       " 'possibleMoves': [1,\n",
       "  2,\n",
       "  3,\n",
       "  4,\n",
       "  5,\n",
       "  6,\n",
       "  7,\n",
       "  8,\n",
       "  9,\n",
       "  10,\n",
       "  11,\n",
       "  18,\n",
       "  19,\n",
       "  20,\n",
       "  21,\n",
       "  22,\n",
       "  23,\n",
       "  24,\n",
       "  25,\n",
       "  26,\n",
       "  27,\n",
       "  28,\n",
       "  29,\n",
       "  36,\n",
       "  37,\n",
       "  38,\n",
       "  39,\n",
       "  40,\n",
       "  41,\n",
       "  42,\n",
       "  43,\n",
       "  44,\n",
       "  45,\n",
       "  46,\n",
       "  52,\n",
       "  53,\n",
       "  54,\n",
       "  55,\n",
       "  58,\n",
       "  59,\n",
       "  60,\n",
       "  61,\n",
       "  62,\n",
       "  63,\n",
       "  69,\n",
       "  70,\n",
       "  71,\n",
       "  74,\n",
       "  75,\n",
       "  76,\n",
       "  77,\n",
       "  78,\n",
       "  86,\n",
       "  87,\n",
       "  88,\n",
       "  89,\n",
       "  90,\n",
       "  91,\n",
       "  92,\n",
       "  93,\n",
       "  94,\n",
       "  95,\n",
       "  96,\n",
       "  103,\n",
       "  104,\n",
       "  105,\n",
       "  106,\n",
       "  107,\n",
       "  108,\n",
       "  109,\n",
       "  110,\n",
       "  111,\n",
       "  112,\n",
       "  120,\n",
       "  121,\n",
       "  124,\n",
       "  125,\n",
       "  126,\n",
       "  127,\n",
       "  128,\n",
       "  129,\n",
       "  138,\n",
       "  139,\n",
       "  140,\n",
       "  141,\n",
       "  142,\n",
       "  143,\n",
       "  154,\n",
       "  155,\n",
       "  156,\n",
       "  157,\n",
       "  158,\n",
       "  159,\n",
       "  160,\n",
       "  161,\n",
       "  162,\n",
       "  171,\n",
       "  172,\n",
       "  173,\n",
       "  174,\n",
       "  175,\n",
       "  176,\n",
       "  177,\n",
       "  178]}"
      ]
     },
     "execution_count": 3,
     "metadata": {},
     "output_type": "execute_result"
    }
   ],
   "source": [
    "request1['actions']"
   ]
  },
  {
   "cell_type": "code",
   "execution_count": 17,
   "id": "alert-spine",
   "metadata": {},
   "outputs": [
    {
     "data": {
      "text/plain": [
       "dict_keys(['actions', 'activeStackId', 'battlefield', 'currentSide', 'order', 'stacks', 'terrain'])"
      ]
     },
     "execution_count": 17,
     "metadata": {},
     "output_type": "execute_result"
    }
   ],
   "source": [
    "request1.keys()"
   ]
  },
  {
   "cell_type": "code",
   "execution_count": 4,
   "id": "baking-violence",
   "metadata": {},
   "outputs": [
    {
     "name": "stdout",
     "output_type": "stream",
     "text": [
      "0\n",
      "1\n",
      "0\n",
      "1\n",
      "0\n"
     ]
    }
   ],
   "source": [
    "for request in requests:\n",
    "    print(request['activeStackId'])"
   ]
  },
  {
   "cell_type": "code",
   "execution_count": 5,
   "id": "collaborative-university",
   "metadata": {},
   "outputs": [
    {
     "name": "stdout",
     "output_type": "stream",
     "text": [
      "griffin\n",
      "2\n",
      "griffin\n",
      "3\n",
      "griffin\n",
      "4\n",
      "griffin\n",
      "5\n",
      "titan\n",
      "0\n",
      "obsidianGargoyle\n",
      "1\n"
     ]
    }
   ],
   "source": [
    "for stack in request1['stacks']:\n",
    "    print(stack['creatureName'])\n",
    "    print(stack['id'])"
   ]
  },
  {
   "cell_type": "code",
   "execution_count": 25,
   "id": "still-jackson",
   "metadata": {},
   "outputs": [
    {
     "data": {
      "text/plain": [
       "[{'affectedUnitIds': [3],\n",
       "  'damageDealt': 84,\n",
       "  'damageReceived': {'collateral': 0, 'retalitation': 3},\n",
       "  'defenderId': 3,\n",
       "  'moveToHex': 7,\n",
       "  'shootersBlockedDamage': 0,\n",
       "  'shooting': False},\n",
       " {'affectedUnitIds': [3],\n",
       "  'damageDealt': 84,\n",
       "  'damageReceived': {'collateral': 0, 'retalitation': 3},\n",
       "  'defenderId': 3,\n",
       "  'moveToHex': 10,\n",
       "  'shootersBlockedDamage': 0,\n",
       "  'shooting': False},\n",
       " {'affectedUnitIds': [3],\n",
       "  'damageDealt': 84,\n",
       "  'damageReceived': {'collateral': 0, 'retalitation': 3},\n",
       "  'defenderId': 3,\n",
       "  'moveToHex': 25,\n",
       "  'shootersBlockedDamage': 0,\n",
       "  'shooting': False},\n",
       " {'affectedUnitIds': [3],\n",
       "  'damageDealt': 84,\n",
       "  'damageReceived': {'collateral': 0, 'retalitation': 3},\n",
       "  'defenderId': 3,\n",
       "  'moveToHex': 26,\n",
       "  'shootersBlockedDamage': 0,\n",
       "  'shooting': False},\n",
       " {'affectedUnitIds': [3],\n",
       "  'damageDealt': 84,\n",
       "  'damageReceived': {'collateral': 0, 'retalitation': 3},\n",
       "  'defenderId': 3,\n",
       "  'moveToHex': 27,\n",
       "  'shootersBlockedDamage': 0,\n",
       "  'shooting': False},\n",
       " {'affectedUnitIds': [5],\n",
       "  'damageDealt': 90,\n",
       "  'damageReceived': {'collateral': 0, 'retalitation': 18},\n",
       "  'defenderId': 5,\n",
       "  'moveToHex': 93,\n",
       "  'shootersBlockedDamage': 0,\n",
       "  'shooting': False},\n",
       " {'affectedUnitIds': [5],\n",
       "  'damageDealt': 90,\n",
       "  'damageReceived': {'collateral': 0, 'retalitation': 18},\n",
       "  'defenderId': 5,\n",
       "  'moveToHex': 109,\n",
       "  'shootersBlockedDamage': 0,\n",
       "  'shooting': False},\n",
       " {'affectedUnitIds': [4],\n",
       "  'damageDealt': 56,\n",
       "  'damageReceived': {'collateral': 0, 'retalitation': 1},\n",
       "  'defenderId': 4,\n",
       "  'moveToHex': 26,\n",
       "  'shootersBlockedDamage': 0,\n",
       "  'shooting': False},\n",
       " {'affectedUnitIds': [4],\n",
       "  'damageDealt': 56,\n",
       "  'damageReceived': {'collateral': 0, 'retalitation': 1},\n",
       "  'defenderId': 4,\n",
       "  'moveToHex': 27,\n",
       "  'shootersBlockedDamage': 0,\n",
       "  'shooting': False},\n",
       " {'affectedUnitIds': [4],\n",
       "  'damageDealt': 56,\n",
       "  'damageReceived': {'collateral': 0, 'retalitation': 1},\n",
       "  'defenderId': 4,\n",
       "  'moveToHex': 42,\n",
       "  'shootersBlockedDamage': 0,\n",
       "  'shooting': False},\n",
       " {'affectedUnitIds': [4],\n",
       "  'damageDealt': 56,\n",
       "  'damageReceived': {'collateral': 0, 'retalitation': 1},\n",
       "  'defenderId': 4,\n",
       "  'moveToHex': 60,\n",
       "  'shootersBlockedDamage': 0,\n",
       "  'shooting': False}]"
      ]
     },
     "execution_count": 25,
     "metadata": {},
     "output_type": "execute_result"
    }
   ],
   "source": [
    "request1['actions']['possibleAttacks']"
   ]
  },
  {
   "cell_type": "code",
   "execution_count": null,
   "id": "automotive-might",
   "metadata": {},
   "outputs": [],
   "source": []
  }
 ],
 "metadata": {
  "kernelspec": {
   "display_name": "Python 3",
   "language": "python",
   "name": "python3"
  },
  "language_info": {
   "codemirror_mode": {
    "name": "ipython",
    "version": 3
   },
   "file_extension": ".py",
   "mimetype": "text/x-python",
   "name": "python",
   "nbconvert_exporter": "python",
   "pygments_lexer": "ipython3",
   "version": "3.7.9"
  }
 },
 "nbformat": 4,
 "nbformat_minor": 5
}
